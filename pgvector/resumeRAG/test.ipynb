{
 "cells": [
  {
   "cell_type": "code",
   "execution_count": 73,
   "metadata": {},
   "outputs": [
    {
     "data": {
      "text/plain": [
       "True"
      ]
     },
     "execution_count": 73,
     "metadata": {},
     "output_type": "execute_result"
    }
   ],
   "source": [
    "# Load in all the libraries and documents needed for the project\n",
    "import os \n",
    "import bs4\n",
    "import markdown\n",
    "import psycopg2\n",
    "import requests\n",
    "\n",
    "from datetime import datetime\n",
    "from dotenv import load_dotenv\n",
    "from pprint import pprint\n",
    "\n",
    "from langchain.prompts import ChatPromptTemplate, HumanMessagePromptTemplate, SystemMessagePromptTemplate\n",
    "from langchain.document_loaders  import TextLoader\n",
    "from langchain.text_splitter  import RecursiveCharacterTextSplitter\n",
    "from langchain.embeddings  import OpenAIEmbeddings\n",
    "from langchain_openai import ChatOpenAI, OpenAIEmbeddings\n",
    "\n",
    "from langchain_community.document_loaders import PyPDFLoader\n",
    "from langchain_community.document_loaders import Docx2txtLoader\n",
    "from langchain_community.document_loaders import WebBaseLoader\n",
    "from langchain_community.document_loaders import UnstructuredMarkdownLoader\n",
    "\n",
    "from langchain.vectorstores.pgvector import PGVector\n",
    "from langchain.chains import create_retrieval_chain\n",
    "from langchain.chains.combine_documents import create_stuff_documents_chain\n",
    "\n",
    "load_dotenv()"
   ]
  },
  {
   "cell_type": "markdown",
   "metadata": {},
   "source": [
    "### Load all the necessary API needed for this project"
   ]
  },
  {
   "cell_type": "code",
   "execution_count": null,
   "metadata": {},
   "outputs": [],
   "source": [
    "# Tracing \n",
    "trace = os.getenv(\"LANGCHAIN_TRACING_V2\")\n",
    "langsmith = os.getenv(\"LANGCHAIN_API_KEY\")"
   ]
  },
  {
   "cell_type": "code",
   "execution_count": null,
   "metadata": {},
   "outputs": [],
   "source": [
    "gpt = ChatOpenAI(\n",
    "    model = \"gpt-4o\",\n",
    "    temperature=0.7\n",
    ")"
   ]
  },
  {
   "cell_type": "code",
   "execution_count": null,
   "metadata": {},
   "outputs": [],
   "source": [
    "gpt.invoke(\"Testing the connection are you able to receive my message?\")"
   ]
  },
  {
   "cell_type": "code",
   "execution_count": null,
   "metadata": {},
   "outputs": [],
   "source": [
    "embeddings = OpenAIEmbeddings(\n",
    "    model=\"text-embedding-3-large\",\n",
    "    openai_api_key = os.getenv(\"OPENAI_API_KEY\"),\n",
    ")"
   ]
  },
  {
   "cell_type": "markdown",
   "metadata": {},
   "source": [
    "## Load, split and chunk all of our documentations"
   ]
  },
  {
   "cell_type": "code",
   "execution_count": 69,
   "metadata": {},
   "outputs": [],
   "source": [
    "pdf_filepath = \"media/Jun Yeow's Resume _ 18_08_2024.pdf\"\n",
    "word_filepath = \"media/Jun Yeow's Resume _ 18_08_2024.docx\""
   ]
  },
  {
   "cell_type": "code",
   "execution_count": 70,
   "metadata": {},
   "outputs": [
    {
     "name": "stdout",
     "output_type": "stream",
     "text": [
      "<langchain_community.document_loaders.pdf.PyPDFLoader object at 0x1480c85c0>\n",
      "------------------------------\n",
      "[Document(metadata={'source': \"media/Jun Yeow's Resume _ 18_08_2024.pdf\", 'page': 0}, page_content='YEOJUNYEOW| PenultimatestudentinDataScienceandBusinessAnalyticsUndergraduate 93721423| Email | LinkedIn| GitHub| WebsiteEDUCATIONUniversityofLondon(UOL)|Aug2022–PresentBachelorofScience(Honours)inDataScienceandBusinessAnalytics● Relevantcoursework:IntroductiontoProgramminginPythonandR,AdvancedStatisticsinDistributionTheory,AdvancedStatisticsinStatisticsInferenceandSQL● CurrentGrade:“A”(OntracktoFirstClassHonours)WORKEXPERIENCEfoodpanda|LogisticsAnalyticsEngineerInternship|Aug2024–Present● OptimisedqueryperformancebybuildingandtestingdatatransformationtablesusingdbtandSQL,resultinginimproveddatareliabilityand10%fasterreportingtimes.● Workingonincreasingdeliverydriversupplyby10%byanalysingriderdataimplementingapredictivemodel forpeakdemandperiodsandreducingordercancellations.● Workingonreducing10%reductionincostperorderbyoptimisingriderpaymentswhilemaintainingcompetitivecompensation.Grab|PeopleDataAnalyticsInternship|Jan2024–Aug2024● LedDataLiteracyProgramacross6countries,boostingdataproficiencyby40%among80+employeesviatargetedtraining.● Analysedmeetingcadences,improvingemployeeperformancemetricsby15%throughoptimisedscheduling.● CreatedPowerBIdashboardsfor8offices,increasingspaceefficiencyby20%andsaving$3.51Mincosts.● DevelopedLLM-basedRAGsystemforworkforcereports,cuttingtime-to-hireby2weeksacrossmarkets.EmpireCode|PythonCodingInstructor|June2023–Jan2024● BoostedPythonproficiencyof25studentsby80%in6monthsviaproject-basedlearningandquizzes.● Raisedstudentengagementby40%through10real-worlddataanalyticsmini-projects.● Enhancedcurriculumeffectivenessby30%usingquarterlyassessmentsandpersonalisedlearningplans.PASTPROJECTSANDEXTRACURRICULARACTIVITIESSIMDataAnalystClub(DAC)|President|Apr2024–Present● OrchestratedweeklyreviewsonMLanddatascienceconceptsincreasingmemberproficiency.● Coordinatedandtaught,MLandSQLlessonstoover100SIMstudentsresultinginanimprovementincodingproficiency.● Assistedinpeer-to-peerlearningandteachingofPythonandSQLacceleratingskilldevelopmentindataanalysis.FDMXDACProject|Team-Lead|Jan2024–Apr2024● Builtandautomatedwebscraperstoscrapedatafromdynamicwebsites.● CreatedaNatural LanguageProcessing(NLP)pipelinetoanalysetextual data.● WorkingondeliveringanLLMapplicationthatreturnsoptimisedjobdescriptionsfortheclient.UberGlobalXBarcelonaHackathon|Team-Lead|Sep2023–Oct2023● AnalyseddatasetsonPythontoidentifyissuestoimproveUber’spresenceinBarcelona.● DevelopedatailoredsolutiontoimproveUber’ssysteminlessaccessiblecityareas.● Introducedmachinelearningtoolstohighlight andimproveUber’sservicesinthecity.SIMInnovationsandNetworkingSociety(IONS)|Vice-President|Oct2022–Jan2024● Orchestratedandcoordinatednewhackathonprojectsfor60ambassadorsandguidedambassadorsonhackathonobjectives.● Recruitedapanel ofspeakersandmentorsforambassadorstonetworkandgainmentorship.● Coordinatedanddirectedaninsightful workshoponthefundamentalsofFigma.SKILLSANDCERTIFICATIONS● Skills:Python,ML,NLP,SQL,PowerBI,Tableau,Excel,Airflow,LangChain,LangSmith,LangGraph,PromptEngineering,RAG.● Databases:AWSRedShift,AzureSynapse,GoogleBigQuery.● Interests:DataScience,gymming,Legocollection,entrepreneurshipandhackathons.')]\n",
      "------------------------------\n",
      "YEOJUNYEOW| PenultimatestudentinDataScienceandBusinessAnalyticsUndergraduate 93721423| Email | LinkedIn| GitHub| WebsiteEDUCATIONUniversityofLondon(UOL)|Aug2022–PresentBachelorofScience(Honours)inDataScienceandBusinessAnalytics● Relevantcoursework:IntroductiontoProgramminginPythonandR,AdvancedStatisticsinDistributionTheory,AdvancedStatisticsinStatisticsInferenceandSQL● CurrentGrade:“A”(OntracktoFirstClassHonours)WORKEXPERIENCEfoodpanda|LogisticsAnalyticsEngineerInternship|Aug2024–Present● OptimisedqueryperformancebybuildingandtestingdatatransformationtablesusingdbtandSQL,resultinginimproveddatareliabilityand10%fasterreportingtimes.● Workingonincreasingdeliverydriversupplyby10%byanalysingriderdataimplementingapredictivemodel forpeakdemandperiodsandreducingordercancellations.● Workingonreducing10%reductionincostperorderbyoptimisingriderpaymentswhilemaintainingcompetitivecompensation.Grab|PeopleDataAnalyticsInternship|Jan2024–Aug2024● LedDataLiteracyProgramacross6countries,boostingdataproficiencyby40%among80+employeesviatargetedtraining.● Analysedmeetingcadences,improvingemployeeperformancemetricsby15%throughoptimisedscheduling.● CreatedPowerBIdashboardsfor8offices,increasingspaceefficiencyby20%andsaving$3.51Mincosts.● DevelopedLLM-basedRAGsystemforworkforcereports,cuttingtime-to-hireby2weeksacrossmarkets.EmpireCode|PythonCodingInstructor|June2023–Jan2024● BoostedPythonproficiencyof25studentsby80%in6monthsviaproject-basedlearningandquizzes.● Raisedstudentengagementby40%through10real-worlddataanalyticsmini-projects.● Enhancedcurriculumeffectivenessby30%usingquarterlyassessmentsandpersonalisedlearningplans.PASTPROJECTSANDEXTRACURRICULARACTIVITIESSIMDataAnalystClub(DAC)|President|Apr2024–Present● OrchestratedweeklyreviewsonMLanddatascienceconceptsincreasingmemberproficiency.● Coordinatedandtaught,MLandSQLlessonstoover100SIMstudentsresultinginanimprovementincodingproficiency.● Assistedinpeer-to-peerlearningandteachingofPythonandSQLacceleratingskilldevelopmentindataanalysis.FDMXDACProject|Team-Lead|Jan2024–Apr2024● Builtandautomatedwebscraperstoscrapedatafromdynamicwebsites.● CreatedaNatural LanguageProcessing(NLP)pipelinetoanalysetextual data.● WorkingondeliveringanLLMapplicationthatreturnsoptimisedjobdescriptionsfortheclient.UberGlobalXBarcelonaHackathon|Team-Lead|Sep2023–Oct2023● AnalyseddatasetsonPythontoidentifyissuestoimproveUber’spresenceinBarcelona.● DevelopedatailoredsolutiontoimproveUber’ssysteminlessaccessiblecityareas.● Introducedmachinelearningtoolstohighlight andimproveUber’sservicesinthecity.SIMInnovationsandNetworkingSociety(IONS)|Vice-President|Oct2022–Jan2024● Orchestratedandcoordinatednewhackathonprojectsfor60ambassadorsandguidedambassadorsonhackathonobjectives.● Recruitedapanel ofspeakersandmentorsforambassadorstonetworkandgainmentorship.● Coordinatedanddirectedaninsightful workshoponthefundamentalsofFigma.SKILLSANDCERTIFICATIONS● Skills:Python,ML,NLP,SQL,PowerBI,Tableau,Excel,Airflow,LangChain,LangSmith,LangGraph,PromptEngineering,RAG.● Databases:AWSRedShift,AzureSynapse,GoogleBigQuery.● Interests:DataScience,gymming,Legocollection,entrepreneurshipandhackathons.\n",
      "1\n"
     ]
    }
   ],
   "source": [
    "#Facing issues with my PYPDF folder for some reason...\n",
    "pdf_loader  = PyPDFLoader(pdf_filepath)\n",
    "print(pdf_loader)\n",
    "\n",
    "print(\"------------------------------\")\n",
    "\n",
    "pdf_documents = pdf_loader.load()\n",
    "print(pdf_documents)\n",
    "\n",
    "print(\"------------------------------\")\n",
    "\n",
    "print(pdf_documents[0].page_content)\n",
    "print(len(pdf_documents))"
   ]
  },
  {
   "cell_type": "code",
   "execution_count": 71,
   "metadata": {},
   "outputs": [
    {
     "name": "stdout",
     "output_type": "stream",
     "text": [
      "<langchain_community.document_loaders.word_document.Docx2txtLoader object at 0x1480cdaf0>\n",
      "------------------------------\n",
      "[Document(metadata={'source': \"media/Jun Yeow's Resume _ 18_08_2024.docx\"}, page_content='YEO JUN YEOW | Penultimate student in Data Science and Business Analytics Undergraduate\\xa0\\n93721423 | Email | LinkedIn | GitHub | Website\\n\\nEDUCATION\\n\\nUniversity of London (UOL) | Aug 2022 – Present\\n\\nBachelor of Science (Honours) in Data Science and Business Analytics \\n\\nRelevant coursework: Introduction to Programming in Python and R, Advanced Statistics in Distribution Theory, Advanced Statistics in Statistics Inference and SQL\\n\\nCurrent Grade: “A” (On track to First Class Honours)\\n\\nWORK EXPERIENCE\\n\\nfoodpanda | Logistics Analytics Engineer Internship | Aug 2024 – Present\\n\\nOptimised query performance by building and testing data transformation tables using dbt and SQL, resulting in improved data reliability and 10% faster reporting times.\\n\\nWorking on increasing delivery driver supply by 10% by analysing rider data implementing a predictive model for peak demand periods and reducing order cancellations.\\n\\nWorking on reducing 10% reduction in cost per order by optimising rider payments while maintaining competitive compensation.\\n\\nGrab | People Data Analytics Internship | Jan 2024 – Aug 2024 \\n\\nLed Data Literacy Program across 6 countries, boosting data proficiency by 40% among 80+ employees via hands-on and pre-recorded training sessions.\\n\\nAnalysed meeting cadences, improving employee performance metrics by 15% through optimised scheduling.\\n\\nCreated PowerBI dashboards for 8 offices, providing an overview of resource planning and management, increasing space efficiency by 20% and saving $3.51M in costs.\\n\\nDeveloped LLM-based RAG system for workforce reports, cutting time-to-hire by 2 weeks across markets.\\n\\nEmpire Code | Python Coding Instructor | June 2023 – Jan 2024\\n\\nBoosted Python proficiency of 25 students by 80% in 6 months via project-based learning and quizzes.\\n\\nRaised student engagement by 40% through 10 real-world data analytics mini-projects.\\n\\nEnhanced curriculum effectiveness by 30% using quarterly assessments and personalised learning plans.\\n\\nPAST PROJECTS AND EXTRACURRICULAR ACTIVITIES\\n\\nSIM Data Analyst Club (DAC) | President | Apr 2024 – Present \\n\\nOrchestrated weekly reviews on ML and data science concepts increasing member proficiency.\\n\\nCoordinated and taught, ML and SQL lessons to over 100 SIM students resulting in an improvement in coding proficiency.\\n\\nAssisted in peer-to-peer learning and teaching of Python and SQL accelerating skill development in data analysis.\\n\\nFDM X DAC Project | Team-Lead | Jan 2024 – Apr 2024\\n\\nBuilt and automated web scrapers to scrape data from dynamic websites.\\n\\nCreated a Natural Language Processing (NLP) pipeline to analyse textual data.\\n\\nWorking on delivering an LLM application that returns optimised job descriptions for the client.\\n\\nUber Global X Barcelona Hackathon | Team-Lead | Sep 2023 – Oct 2023\\n\\nAnalysed datasets on Python to identify issues to improve Uber’s presence in Barcelona.\\n\\nDeveloped a tailored solution to improve Uber’s system in less accessible city areas.\\n\\nIntroduced machine learning tools to highlight and improve Uber’s services in the city.\\n\\nSIM Innovations and Networking Society (IONS) | Vice-President | Oct 2022 – Jan 2024\\n\\nOrchestrated and coordinated new hackathon projects for 60 ambassadors and guided ambassadors on hackathon objectives.\\n\\nRecruited a panel of speakers and mentors for ambassadors to network and gain mentorship.\\n\\nCoordinated and directed an insightful workshop on the fundamentals of Figma.\\n\\nSKILLS AND CERTIFICATIONS\\n\\nSkills: Python, ML, NLP, SQL, PowerBI, Tableau, Excel, Airflow, LangChain, LangSmith, LangGraph, Prompt Engineering, RAG.\\n\\nDatabases: AWS RedShift, Azure Synapse, Google BigQuery.\\n\\nInterests: Data Science, gymming, Lego collection, entrepreneurship and hackathons.')]\n",
      "------------------------------\n",
      "page_content='YEO JUN YEOW | Penultimate student in Data Science and Business Analytics Undergraduate \n",
      "93721423 | Email | LinkedIn | GitHub | Website\n",
      "\n",
      "EDUCATION\n",
      "\n",
      "University of London (UOL) | Aug 2022 – Present\n",
      "\n",
      "Bachelor of Science (Honours) in Data Science and Business Analytics \n",
      "\n",
      "Relevant coursework: Introduction to Programming in Python and R, Advanced Statistics in Distribution Theory, Advanced Statistics in Statistics Inference and SQL\n",
      "\n",
      "Current Grade: “A” (On track to First Class Honours)\n",
      "\n",
      "WORK EXPERIENCE\n",
      "\n",
      "foodpanda | Logistics Analytics Engineer Internship | Aug 2024 – Present\n",
      "\n",
      "Optimised query performance by building and testing data transformation tables using dbt and SQL, resulting in improved data reliability and 10% faster reporting times.\n",
      "\n",
      "Working on increasing delivery driver supply by 10% by analysing rider data implementing a predictive model for peak demand periods and reducing order cancellations.\n",
      "\n",
      "Working on reducing 10% reduction in cost per order by optimising rider payments while maintaining competitive compensation.\n",
      "\n",
      "Grab | People Data Analytics Internship | Jan 2024 – Aug 2024 \n",
      "\n",
      "Led Data Literacy Program across 6 countries, boosting data proficiency by 40% among 80+ employees via hands-on and pre-recorded training sessions.\n",
      "\n",
      "Analysed meeting cadences, improving employee performance metrics by 15% through optimised scheduling.\n",
      "\n",
      "Created PowerBI dashboards for 8 offices, providing an overview of resource planning and management, increasing space efficiency by 20% and saving $3.51M in costs.\n",
      "\n",
      "Developed LLM-based RAG system for workforce reports, cutting time-to-hire by 2 weeks across markets.\n",
      "\n",
      "Empire Code | Python Coding Instructor | June 2023 – Jan 2024\n",
      "\n",
      "Boosted Python proficiency of 25 students by 80% in 6 months via project-based learning and quizzes.\n",
      "\n",
      "Raised student engagement by 40% through 10 real-world data analytics mini-projects.\n",
      "\n",
      "Enhanced curriculum effectiveness by 30% using quarterly assessments and personalised learning plans.\n",
      "\n",
      "PAST PROJECTS AND EXTRACURRICULAR ACTIVITIES\n",
      "\n",
      "SIM Data Analyst Club (DAC) | President | Apr 2024 – Present \n",
      "\n",
      "Orchestrated weekly reviews on ML and data science concepts increasing member proficiency.\n",
      "\n",
      "Coordinated and taught, ML and SQL lessons to over 100 SIM students resulting in an improvement in coding proficiency.\n",
      "\n",
      "Assisted in peer-to-peer learning and teaching of Python and SQL accelerating skill development in data analysis.\n",
      "\n",
      "FDM X DAC Project | Team-Lead | Jan 2024 – Apr 2024\n",
      "\n",
      "Built and automated web scrapers to scrape data from dynamic websites.\n",
      "\n",
      "Created a Natural Language Processing (NLP) pipeline to analyse textual data.\n",
      "\n",
      "Working on delivering an LLM application that returns optimised job descriptions for the client.\n",
      "\n",
      "Uber Global X Barcelona Hackathon | Team-Lead | Sep 2023 – Oct 2023\n",
      "\n",
      "Analysed datasets on Python to identify issues to improve Uber’s presence in Barcelona.\n",
      "\n",
      "Developed a tailored solution to improve Uber’s system in less accessible city areas.\n",
      "\n",
      "Introduced machine learning tools to highlight and improve Uber’s services in the city.\n",
      "\n",
      "SIM Innovations and Networking Society (IONS) | Vice-President | Oct 2022 – Jan 2024\n",
      "\n",
      "Orchestrated and coordinated new hackathon projects for 60 ambassadors and guided ambassadors on hackathon objectives.\n",
      "\n",
      "Recruited a panel of speakers and mentors for ambassadors to network and gain mentorship.\n",
      "\n",
      "Coordinated and directed an insightful workshop on the fundamentals of Figma.\n",
      "\n",
      "SKILLS AND CERTIFICATIONS\n",
      "\n",
      "Skills: Python, ML, NLP, SQL, PowerBI, Tableau, Excel, Airflow, LangChain, LangSmith, LangGraph, Prompt Engineering, RAG.\n",
      "\n",
      "Databases: AWS RedShift, Azure Synapse, Google BigQuery.\n",
      "\n",
      "Interests: Data Science, gymming, Lego collection, entrepreneurship and hackathons.' metadata={'source': \"media/Jun Yeow's Resume _ 18_08_2024.docx\"}\n",
      "------------------------------\n",
      "1\n"
     ]
    }
   ],
   "source": [
    "# Let's try word document instead\n",
    "word_loader = Docx2txtLoader(word_filepath)\n",
    "print(word_loader)\n",
    "\n",
    "print(\"------------------------------\")\n",
    "\n",
    "word_doc= word_loader.load()\n",
    "pprint(word_doc)\n",
    "\n",
    "print(\"------------------------------\")\n",
    "\n",
    "print(word_doc[0])\n",
    "\n",
    "print(\"------------------------------\")\n",
    "\n",
    "print(len(word_doc))"
   ]
  },
  {
   "cell_type": "code",
   "execution_count": 75,
   "metadata": {},
   "outputs": [
    {
     "name": "stdout",
     "output_type": "stream",
     "text": [
      "<Response [200]>\n",
      "[Document(metadata={'source': 'https://johnyeow23.github.io/JunYeow-Website/', 'title': \"Jun Yeow's Portfolio\", 'language': 'No language found.'}, page_content=\"\\n\\n\\nJun Yeow's Portfolio\\n\\n\\n\\n\\n\\n\\n\\n\\n\\n\\n\\nWelcome\\nWork\\nProjects\\nLeadership\\nContact Me!!\\n\\n\\n\\n\\n\\n\\n\\n\\n\\nHi there! I am Jun Yeow \\nI am a Data Science student at the University of London with a strong passion for Machine Learning \\r\\n\\t\\t\\t\\t\\t\\t\\tand Analytics. Explore my projects and work experiences below, and learn more about me on my personal \\r\\n\\t\\t\\t\\t\\t\\t\\twebsite or from my \\r\\n\\t\\t\\t\\t\\t\\t\\t\\tresume and my \\r\\n\\t\\t\\t\\t\\t\\t\\t\\tLinkedIn.\\n\\n\\n\\nTechnical Skills\\n\\n\\n\\n\\n\\nSQL\\r\\n\\t\\t\\t\\t\\t\\t\\t\\t\\t\\n\\n\\nPython\\r\\n\\t\\t\\t\\t\\t\\t\\t\\t\\t\\n\\n\\nGit\\r\\n\\t\\t\\t\\t\\t\\t\\t\\t\\t\\n\\n\\nPowerBI\\r\\n\\t\\t\\t\\t\\t\\t\\t\\t\\t\\n\\n\\nTableau\\r\\n\\t\\t\\t\\t\\t\\t\\t\\t\\t\\n\\n\\nScikit-Learn\\r\\n\\t\\t\\t\\t\\t\\t\\t\\t\\t\\n\\n\\nSeaborn\\r\\n\\t\\t\\t\\t\\t\\t\\t\\t\\t\\n\\n\\nPandas\\r\\n\\t\\t\\t\\t\\t\\t\\t\\t\\t\\n\\n\\nNumPy\\r\\n\\t\\t\\t\\t\\t\\t\\t\\t\\t\\n\\n\\nMatplotlib\\r\\n\\t\\t\\t\\t\\t\\t\\t\\t\\t\\n\\n\\nFolium\\r\\n\\t\\t\\t\\t\\t\\t\\t\\t\\t\\n\\n\\nPlotly\\r\\n\\t\\t\\t\\t\\t\\t\\t\\t\\t\\n\\n\\nLangChain\\r\\n\\t\\t\\t\\t\\t\\t\\t\\t\\t\\n\\n\\nLangSmith\\r\\n\\t\\t\\t\\t\\t\\t\\t\\t\\t\\n\\n\\nLangGraph\\r\\n\\t\\t\\t\\t\\t\\t\\t\\t\\t\\n\\n\\ndbt\\r\\n\\t\\t\\t\\t\\t\\t\\t\\t\\t\\n\\n\\n\\n\\n\\n\\n\\n\\n\\n\\n\\n\\nGrab | People Data Analytics Intern | Jan 2024 - Aug 2024\\nHuman Resource Analytics Internship at Grab, where I worked on projects to improve the employee experience\\r\\n\\t\\t\\t\\t\\t\\t\\t\\t\\t\\tand promoting a data-driven culture within the HR department.\\r\\n\\t\\t\\t\\t\\t\\t\\t\\t\\t\\n\\nLed Data Literacy Program across 6 countries, boosting data proficiency by 40% among 80+ employees via targeted training.\\nAnalysed meeting cadences, improving employee performance metrics by 15% through optimised scheduling.\\nCreated PowerBI dashboards for 8 offices, increasing space efficiency by 20% and saving $3.51M in costs.\\nDeveloped LLM-based RAG system for workforce reports, cutting time-to-hire by 2 weeks across markets.\\n\\n\\n\\n\\n\\n\\n\\n\\n\\n\\n\\nfoodpanda | Logistic Analytics Engineering Intern | Aug 2024 - Dec 2024\\nLogistics Analytics Internship at foodpanda, where I worked on projects to improving and optimising rider supply to meet customer's demand.\\r\\n\\t\\t\\t\\t\\t\\t\\t\\t\\t\\n\\nOptimised query performance by building and testing data transformation tables using dbt and SQL, resulting in improved data reliability and 10% faster reporting times.\\nWorking on increasing delivery driver supply by 10% by analysing rider data implementing a predictive model for peak demand periods and reducing order cancellations.\\nWorking on reducing 10% reduction in cost per order by optimising rider payments while maintaining competitive compensation.\\n\\n\\n\\n\\n\\n\\n\\n\\n\\n\\n\\n\\n\\n\\n\\n\\n\\nProjects\\nWelcome to my projects showcase, where I bring my ideas to life! Below are some of the exciting projects I have worked on:\\n\\n\\n\\n\\nFDM x DAC Competitive Job Analysis\\nAn external project with FDM in collaboration with the SIM Data Analytics Club. My team and I delved into \\r\\n\\t\\t\\t\\t\\t\\t\\t\\t\\t\\tjob description competitive analysis.\\n\\nCheck it out here!\\n\\n\\n\\n\\n\\n\\n\\n\\n\\n\\n\\n\\n\\nSIM Data Analytics Club (DAC) | President\\n\\n\\n\\nOrchestrated weekly reviews on ML and data science concepts increasing member proficiency.\\nCoordinated and taught, ML and SQL lessons to over 100 SIM students resulting in an improvement in coding proficiency.\\nAssisted in peer-to-peer learning and teaching of Python and SQL accelerating skill development in data analysis.\\n\\n\\nCheck us out!\\n\\n\\n\\n\\n\\n\\n\\n\\nSIM Innovations and Networking Society (IONS) | Vice-President\\n\\nOrchestrated and coordinated new hackathon projects for 60 ambassadors and guided ambassadors on hackathon objectives.\\nRecruited a panel of speakers and mentors for ambassadors to network and gain mentorship.\\nCoordinated and directed an insightful workshop on the fundamentals of Figma.\\n\\n\\nCheck us out!\\n\\n\\n\\n\\n\\n\\n\\n\\n\\n\\n\\n\\n\\n\\nStay in touch with me!\\nEmail\\nTelegram\\n\\n\\n\\n\\nLinkedIn\\nGitHub\\nYoutube\\nInstagram\\n\\n\\n\\n\\n\\n\\n\\n\\n\\n\\n\\n\\n\\n© Untitled. All rights reserved. I will steal your dataDesign to rob your data and why are you reading the fine print hahah \\n\\n\\n\\n\\n\\n\\n\\n\\n\\n\\n\\n\\n\\n\")]\n",
      "1\n"
     ]
    }
   ],
   "source": [
    "# Website information\n",
    "url = \"https://johnyeow23.github.io/JunYeow-Website/\"\n",
    "response = requests.get(url)\n",
    "print(response)\n",
    "\n",
    "web_loader = WebBaseLoader(\n",
    "    web_path=(url),\n",
    ")\n",
    "\n",
    "web = web_loader.load()\n",
    "pprint(web)\n",
    "print(len(web))"
   ]
  },
  {
   "cell_type": "code",
   "execution_count": 76,
   "metadata": {},
   "outputs": [
    {
     "name": "stdout",
     "output_type": "stream",
     "text": [
      "[Document(metadata={'source': \"media/Jun Yeow's Resume.md\", 'category_depth': 0, 'languages': ['eng'], 'file_directory': 'media', 'filename': \"Jun Yeow's Resume.md\", 'filetype': 'text/markdown', 'last_modified': '2024-11-16T17:03:21', 'category': 'Title', 'element_id': 'a367c5494622850350cbe80b8ee98c1a'}, page_content='# Hello!! I am Jun Yeow 👋'), Document(metadata={'source': \"media/Jun Yeow's Resume.md\", 'category_depth': 2, 'emphasized_text_contents': ['Aspiring AI Engineer | With a Passion in Data Science and Data Engineering'], 'emphasized_text_tags': ['b'], 'languages': ['eng'], 'file_directory': 'media', 'filename': \"Jun Yeow's Resume.md\", 'filetype': 'text/markdown', 'last_modified': '2024-11-16T17:03:21', 'parent_id': 'a367c5494622850350cbe80b8ee98c1a', 'category': 'Title', 'element_id': 'cbf8940cb129844d4e74d6ebdfa4be15'}, page_content='Aspiring AI Engineer | With a Passion in Data Science and Data Engineering'), Document(metadata={'source': \"media/Jun Yeow's Resume.md\", 'languages': ['eng'], 'file_directory': 'media', 'filename': \"Jun Yeow's Resume.md\", 'filetype': 'text/markdown', 'last_modified': '2024-11-16T17:03:21', 'parent_id': 'cbf8940cb129844d4e74d6ebdfa4be15', 'category': 'NarrativeText', 'element_id': 'b6327aaf313cbd40f445adfc9d17d3cc'}, page_content=\"## :man_technologist: About Me: - University of London's 3rd year Data Science and Business Analytics student. - Currently working as a **Logistics Analytics Engineering Intern in foodpanda**. - President of the Data Analytics Club - Full time bug creator and data validator\"), Document(metadata={'source': \"media/Jun Yeow's Resume.md\", 'category_depth': 1, 'languages': ['eng'], 'file_directory': 'media', 'filename': \"Jun Yeow's Resume.md\", 'filetype': 'text/markdown', 'last_modified': '2024-11-16T17:03:21', 'parent_id': 'a367c5494622850350cbe80b8ee98c1a', 'category': 'Title', 'element_id': '650d0605054e6a69628e61f7f62e6076'}, page_content=':fire: Tech Skills:'), Document(metadata={'source': \"media/Jun Yeow's Resume.md\", 'category_depth': 1, 'emphasized_text_contents': ['Pandas', 'Numpy', 'SQL'], 'emphasized_text_tags': ['b', 'b', 'b'], 'languages': ['eng'], 'file_directory': 'media', 'filename': \"Jun Yeow's Resume.md\", 'filetype': 'text/markdown', 'last_modified': '2024-11-16T17:03:21', 'parent_id': '650d0605054e6a69628e61f7f62e6076', 'category': 'ListItem', 'element_id': 'a9fb952907dad78184674b29c7517123'}, page_content='Data Analysis: Pandas, Numpy and SQL'), Document(metadata={'source': \"media/Jun Yeow's Resume.md\", 'category_depth': 1, 'emphasized_text_contents': ['Machine Learning', 'GenAI'], 'emphasized_text_tags': ['b', 'b'], 'languages': ['eng'], 'file_directory': 'media', 'filename': \"Jun Yeow's Resume.md\", 'filetype': 'text/markdown', 'last_modified': '2024-11-16T17:03:21', 'parent_id': '650d0605054e6a69628e61f7f62e6076', 'category': 'ListItem', 'element_id': 'd18320356860a6a47ed2086e7082c3f0'}, page_content='Data Science Machine Learning and GenAI'), Document(metadata={'source': \"media/Jun Yeow's Resume.md\", 'category_depth': 1, 'emphasized_text_contents': ['Tableau', 'PowerBI', 'Looker Studio'], 'emphasized_text_tags': ['b', 'b', 'b'], 'languages': ['eng'], 'file_directory': 'media', 'filename': \"Jun Yeow's Resume.md\", 'filetype': 'text/markdown', 'last_modified': '2024-11-16T17:03:21', 'parent_id': '650d0605054e6a69628e61f7f62e6076', 'category': 'ListItem', 'element_id': '5ea4159d134bf5cd54d22e7250982a3a'}, page_content='Data Visualisation: Tableau, PowerBI and Looker Studio'), Document(metadata={'source': \"media/Jun Yeow's Resume.md\", 'category_depth': 1, 'emphasized_text_contents': ['Apache Airflow', 'Dockers', 'Database Management'], 'emphasized_text_tags': ['b', 'b', 'b'], 'languages': ['eng'], 'file_directory': 'media', 'filename': \"Jun Yeow's Resume.md\", 'filetype': 'text/markdown', 'last_modified': '2024-11-16T17:03:21', 'parent_id': '650d0605054e6a69628e61f7f62e6076', 'category': 'ListItem', 'element_id': '2cc44f1d16f9d26706a62813e7e77739'}, page_content='Data Engineering: Apache Airflow, Dockers and Database Management'), Document(metadata={'source': \"media/Jun Yeow's Resume.md\", 'languages': ['eng'], 'file_directory': 'media', 'filename': \"Jun Yeow's Resume.md\", 'filetype': 'text/markdown', 'last_modified': '2024-11-16T17:03:21', 'parent_id': '650d0605054e6a69628e61f7f62e6076', 'category': 'NarrativeText', 'element_id': '002b824d9aad7c60c5368badd857ef1b'}, page_content='python john_dict = { \"code\": [\"Python\", \"SQL\", \"HTML\", \"CSS\"] \"tools\": [\"Tableau\", \"PowerBI\", \"dbt\", \"GitHub\"] \"databases\": [\"MySql\", \"PostgreSQL\", \"RedShift\", \"BigQuery\"] \"hobbies\": Error 404 😭 }'), Document(metadata={'source': \"media/Jun Yeow's Resume.md\", 'category_depth': 1, 'languages': ['eng'], 'file_directory': 'media', 'filename': \"Jun Yeow's Resume.md\", 'filetype': 'text/markdown', 'last_modified': '2024-11-16T17:03:21', 'parent_id': 'a367c5494622850350cbe80b8ee98c1a', 'category': 'Title', 'element_id': '654b068194c58e0abda7c005a5f25ac2'}, page_content=':computer: My Projects:'), Document(metadata={'source': \"media/Jun Yeow's Resume.md\", 'category_depth': 1, 'emphasized_text_contents': ['AI Web Scraper'], 'emphasized_text_tags': ['b'], 'link_texts': ['AI Web Scraper', 'Try the live demo on Streamlit!'], 'link_urls': ['https://github.com/JohnYeow23/ai_webber/tree/main', 'https://aiwebber-c2w8dfibt3htpgwtpswmif.streamlit.app/'], 'languages': ['eng'], 'file_directory': 'media', 'filename': \"Jun Yeow's Resume.md\", 'filetype': 'text/markdown', 'last_modified': '2024-11-16T17:03:21', 'parent_id': '654b068194c58e0abda7c005a5f25ac2', 'category': 'ListItem', 'element_id': '6a045d61e139c0c02c5333ae6f356d71'}, page_content='AI Web Scraper: An AI-powered web scraper that lets users extract and query information from any website by providing a URL. The app scrapes the site, retrieves its DOM content, and allows for targeted queries via AI. Built with tools like Selenium, BeautifulSoup, LangChain, and Streamlit, it offers a user-friendly UI and showcases the potential of combining web scraping with AI for interactive data extraction. Try the live demo on Streamlit!'), Document(metadata={'source': \"media/Jun Yeow's Resume.md\", 'category_depth': 1, 'languages': ['eng'], 'file_directory': 'media', 'filename': \"Jun Yeow's Resume.md\", 'filetype': 'text/markdown', 'last_modified': '2024-11-16T17:03:21', 'parent_id': 'a367c5494622850350cbe80b8ee98c1a', 'category': 'Title', 'element_id': 'c0e47337b9574e559789ca43dbef0c0d'}, page_content=':dancers: Communities:'), Document(metadata={'source': \"media/Jun Yeow's Resume.md\", 'link_texts': ['SIM DAC'], 'link_urls': ['https://github.com/DACSIM/DAC-Curriculum'], 'languages': ['eng'], 'file_directory': 'media', 'filename': \"Jun Yeow's Resume.md\", 'filetype': 'text/markdown', 'last_modified': '2024-11-16T17:03:21', 'parent_id': 'c0e47337b9574e559789ca43dbef0c0d', 'category': 'NarrativeText', 'element_id': '497f9153a77f760c2c6223e7007cfd4c'}, page_content='Lead contributor at SIM DAC - This open-source curriculum, DACademy, was developed under my leadership as the president of the club, to serve as a comprehensive resource for SIM students interested in data analytics. Designed to be beginner-friendly, DACademy covers fundamental skills such as Python, machine learning and SQL, empowering students to build a solid foundation in data analysis. In addition to leading the curriculum’s creation, I have taught key topics, helping students apply these skills through real-world projects and interactive sessions.'), Document(metadata={'source': \"media/Jun Yeow's Resume.md\", 'link_texts': ['SIM DSA'], 'link_urls': ['https://github.com/DACSIM/DSA-Curriculum'], 'languages': ['eng'], 'file_directory': 'media', 'filename': \"Jun Yeow's Resume.md\", 'filetype': 'text/markdown', 'last_modified': '2024-11-16T17:03:21', 'parent_id': 'c0e47337b9574e559789ca43dbef0c0d', 'category': 'NarrativeText', 'element_id': '286789c2ff1981326a1bc02fb06e5dad'}, page_content='Lead contributor at SIM DSA, the advanced data science curriculum at SIM, was developed under my leadership to address the needs of students interested in deeper data science topics like deep learning, data engineering and generative AI. This curriculum provides hands-on projects and resources that allow students to master advanced concepts. I have also taught various topics within this curriculum, helping students engage with cutting-edge data science techniques and gain practical experience.'), Document(metadata={'source': \"media/Jun Yeow's Resume.md\", 'category_depth': 0, 'languages': ['eng'], 'file_directory': 'media', 'filename': \"Jun Yeow's Resume.md\", 'filetype': 'text/markdown', 'last_modified': '2024-11-16T17:03:21', 'category': 'Title', 'element_id': 'ca044c98ea668f86bb8d8d2c8e300b0a'}, page_content='Visitor count')]\n",
      "15\n",
      "Data Engineering: Apache Airflow, Dockers and Database Management\n"
     ]
    }
   ],
   "source": [
    "# Markdown information\n",
    "markdown_path = \"media/Jun Yeow's Resume.md\"\n",
    "\n",
    "readme_loader = UnstructuredMarkdownLoader(markdown_path, mode=\"elements\")\n",
    "\n",
    "readme_data = readme_loader.load()\n",
    "\n",
    "print(readme_data)\n",
    "print(len(readme_data))\n",
    "print(readme_data[7].page_content)"
   ]
  },
  {
   "cell_type": "markdown",
   "metadata": {},
   "source": [
    "### We loaded the documents in now to split them into chunks"
   ]
  },
  {
   "cell_type": "code",
   "execution_count": 90,
   "metadata": {},
   "outputs": [
    {
     "name": "stdout",
     "output_type": "stream",
     "text": [
      "[Document(metadata={'source': \"media/Jun Yeow's Resume _ 18_08_2024.docx\"}, page_content='YEO JUN YEOW | Penultimate student in Data Science and Business Analytics Undergraduate\\xa0\\n93721423 | Email | LinkedIn | GitHub | Website\\n\\nEDUCATION\\n\\nUniversity of London (UOL) | Aug 2022 – Present\\n\\nBachelor of Science (Honours) in Data Science and Business Analytics \\n\\nRelevant coursework: Introduction to Programming in Python and R, Advanced Statistics in Distribution Theory, Advanced Statistics in Statistics Inference and SQL\\n\\nCurrent Grade: “A” (On track to First Class Honours)\\n\\nWORK EXPERIENCE\\n\\nfoodpanda | Logistics Analytics Engineer Internship | Aug 2024 – Present\\n\\nOptimised query performance by building and testing data transformation tables using dbt and SQL, resulting in improved data reliability and 10% faster reporting times.\\n\\nWorking on increasing delivery driver supply by 10% by analysing rider data implementing a predictive model for peak demand periods and reducing order cancellations.'), Document(metadata={'source': \"media/Jun Yeow's Resume _ 18_08_2024.docx\"}, page_content='Optimised query performance by building and testing data transformation tables using dbt and SQL, resulting in improved data reliability and 10% faster reporting times.\\n\\nWorking on increasing delivery driver supply by 10% by analysing rider data implementing a predictive model for peak demand periods and reducing order cancellations.\\n\\nWorking on reducing 10% reduction in cost per order by optimising rider payments while maintaining competitive compensation.\\n\\nGrab | People Data Analytics Internship | Jan 2024 – Aug 2024 \\n\\nLed Data Literacy Program across 6 countries, boosting data proficiency by 40% among 80+ employees via hands-on and pre-recorded training sessions.\\n\\nAnalysed meeting cadences, improving employee performance metrics by 15% through optimised scheduling.\\n\\nCreated PowerBI dashboards for 8 offices, providing an overview of resource planning and management, increasing space efficiency by 20% and saving $3.51M in costs.'), Document(metadata={'source': \"media/Jun Yeow's Resume _ 18_08_2024.docx\"}, page_content='Analysed meeting cadences, improving employee performance metrics by 15% through optimised scheduling.\\n\\nCreated PowerBI dashboards for 8 offices, providing an overview of resource planning and management, increasing space efficiency by 20% and saving $3.51M in costs.\\n\\nDeveloped LLM-based RAG system for workforce reports, cutting time-to-hire by 2 weeks across markets.\\n\\nEmpire Code | Python Coding Instructor | June 2023 – Jan 2024\\n\\nBoosted Python proficiency of 25 students by 80% in 6 months via project-based learning and quizzes.\\n\\nRaised student engagement by 40% through 10 real-world data analytics mini-projects.\\n\\nEnhanced curriculum effectiveness by 30% using quarterly assessments and personalised learning plans.\\n\\nPAST PROJECTS AND EXTRACURRICULAR ACTIVITIES\\n\\nSIM Data Analyst Club (DAC) | President | Apr 2024 – Present \\n\\nOrchestrated weekly reviews on ML and data science concepts increasing member proficiency.'), Document(metadata={'source': \"media/Jun Yeow's Resume _ 18_08_2024.docx\"}, page_content='Raised student engagement by 40% through 10 real-world data analytics mini-projects.\\n\\nEnhanced curriculum effectiveness by 30% using quarterly assessments and personalised learning plans.\\n\\nPAST PROJECTS AND EXTRACURRICULAR ACTIVITIES\\n\\nSIM Data Analyst Club (DAC) | President | Apr 2024 – Present \\n\\nOrchestrated weekly reviews on ML and data science concepts increasing member proficiency.\\n\\nCoordinated and taught, ML and SQL lessons to over 100 SIM students resulting in an improvement in coding proficiency.\\n\\nAssisted in peer-to-peer learning and teaching of Python and SQL accelerating skill development in data analysis.\\n\\nFDM X DAC Project | Team-Lead | Jan 2024 – Apr 2024\\n\\nBuilt and automated web scrapers to scrape data from dynamic websites.\\n\\nCreated a Natural Language Processing (NLP) pipeline to analyse textual data.\\n\\nWorking on delivering an LLM application that returns optimised job descriptions for the client.\\n\\nUber Global X Barcelona Hackathon | Team-Lead | Sep 2023 – Oct 2023'), Document(metadata={'source': \"media/Jun Yeow's Resume _ 18_08_2024.docx\"}, page_content='FDM X DAC Project | Team-Lead | Jan 2024 – Apr 2024\\n\\nBuilt and automated web scrapers to scrape data from dynamic websites.\\n\\nCreated a Natural Language Processing (NLP) pipeline to analyse textual data.\\n\\nWorking on delivering an LLM application that returns optimised job descriptions for the client.\\n\\nUber Global X Barcelona Hackathon | Team-Lead | Sep 2023 – Oct 2023\\n\\nAnalysed datasets on Python to identify issues to improve Uber’s presence in Barcelona.\\n\\nDeveloped a tailored solution to improve Uber’s system in less accessible city areas.\\n\\nIntroduced machine learning tools to highlight and improve Uber’s services in the city.\\n\\nSIM Innovations and Networking Society (IONS) | Vice-President | Oct 2022 – Jan 2024\\n\\nOrchestrated and coordinated new hackathon projects for 60 ambassadors and guided ambassadors on hackathon objectives.\\n\\nRecruited a panel of speakers and mentors for ambassadors to network and gain mentorship.'), Document(metadata={'source': \"media/Jun Yeow's Resume _ 18_08_2024.docx\"}, page_content='Introduced machine learning tools to highlight and improve Uber’s services in the city.\\n\\nSIM Innovations and Networking Society (IONS) | Vice-President | Oct 2022 – Jan 2024\\n\\nOrchestrated and coordinated new hackathon projects for 60 ambassadors and guided ambassadors on hackathon objectives.\\n\\nRecruited a panel of speakers and mentors for ambassadors to network and gain mentorship.\\n\\nCoordinated and directed an insightful workshop on the fundamentals of Figma.\\n\\nSKILLS AND CERTIFICATIONS\\n\\nSkills: Python, ML, NLP, SQL, PowerBI, Tableau, Excel, Airflow, LangChain, LangSmith, LangGraph, Prompt Engineering, RAG.\\n\\nDatabases: AWS RedShift, Azure Synapse, Google BigQuery.\\n\\nInterests: Data Science, gymming, Lego collection, entrepreneurship and hackathons.')]\n",
      "YEO JUN YEOW | Penultimate student in Data Science and Business Analytics Undergraduate \n",
      "93721423 | Email | LinkedIn | GitHub | Website\n",
      "\n",
      "EDUCATION\n",
      "\n",
      "University of London (UOL) | Aug 2022 – Present\n",
      "\n",
      "Bachelor of Science (Honours) in Data Science and Business Analytics \n",
      "\n",
      "Relevant coursework: Introduction to Programming in Python and R, Advanced Statistics in Distribution Theory, Advanced Statistics in Statistics Inference and SQL\n",
      "\n",
      "Current Grade: “A” (On track to First Class Honours)\n",
      "\n",
      "WORK EXPERIENCE\n",
      "\n",
      "foodpanda | Logistics Analytics Engineer Internship | Aug 2024 – Present\n",
      "\n",
      "Optimised query performance by building and testing data transformation tables using dbt and SQL, resulting in improved data reliability and 10% faster reporting times.\n",
      "\n",
      "Working on increasing delivery driver supply by 10% by analysing rider data implementing a predictive model for peak demand periods and reducing order cancellations.\n",
      "Optimised query performance by building and testing data transformation tables using dbt and SQL, resulting in improved data reliability and 10% faster reporting times.\n",
      "\n",
      "Working on increasing delivery driver supply by 10% by analysing rider data implementing a predictive model for peak demand periods and reducing order cancellations.\n",
      "\n",
      "Working on reducing 10% reduction in cost per order by optimising rider payments while maintaining competitive compensation.\n",
      "\n",
      "Grab | People Data Analytics Internship | Jan 2024 – Aug 2024 \n",
      "\n",
      "Led Data Literacy Program across 6 countries, boosting data proficiency by 40% among 80+ employees via hands-on and pre-recorded training sessions.\n",
      "\n",
      "Analysed meeting cadences, improving employee performance metrics by 15% through optimised scheduling.\n",
      "\n",
      "Created PowerBI dashboards for 8 offices, providing an overview of resource planning and management, increasing space efficiency by 20% and saving $3.51M in costs.\n",
      "Analysed meeting cadences, improving employee performance metrics by 15% through optimised scheduling.\n",
      "\n",
      "Created PowerBI dashboards for 8 offices, providing an overview of resource planning and management, increasing space efficiency by 20% and saving $3.51M in costs.\n",
      "\n",
      "Developed LLM-based RAG system for workforce reports, cutting time-to-hire by 2 weeks across markets.\n",
      "\n",
      "Empire Code | Python Coding Instructor | June 2023 – Jan 2024\n",
      "\n",
      "Boosted Python proficiency of 25 students by 80% in 6 months via project-based learning and quizzes.\n",
      "\n",
      "Raised student engagement by 40% through 10 real-world data analytics mini-projects.\n",
      "\n",
      "Enhanced curriculum effectiveness by 30% using quarterly assessments and personalised learning plans.\n",
      "\n",
      "PAST PROJECTS AND EXTRACURRICULAR ACTIVITIES\n",
      "\n",
      "SIM Data Analyst Club (DAC) | President | Apr 2024 – Present \n",
      "\n",
      "Orchestrated weekly reviews on ML and data science concepts increasing member proficiency.\n",
      "Raised student engagement by 40% through 10 real-world data analytics mini-projects.\n",
      "\n",
      "Enhanced curriculum effectiveness by 30% using quarterly assessments and personalised learning plans.\n",
      "\n",
      "PAST PROJECTS AND EXTRACURRICULAR ACTIVITIES\n",
      "\n",
      "SIM Data Analyst Club (DAC) | President | Apr 2024 – Present \n",
      "\n",
      "Orchestrated weekly reviews on ML and data science concepts increasing member proficiency.\n",
      "\n",
      "Coordinated and taught, ML and SQL lessons to over 100 SIM students resulting in an improvement in coding proficiency.\n",
      "\n",
      "Assisted in peer-to-peer learning and teaching of Python and SQL accelerating skill development in data analysis.\n",
      "\n",
      "FDM X DAC Project | Team-Lead | Jan 2024 – Apr 2024\n",
      "\n",
      "Built and automated web scrapers to scrape data from dynamic websites.\n",
      "\n",
      "Created a Natural Language Processing (NLP) pipeline to analyse textual data.\n",
      "\n",
      "Working on delivering an LLM application that returns optimised job descriptions for the client.\n",
      "\n",
      "Uber Global X Barcelona Hackathon | Team-Lead | Sep 2023 – Oct 2023\n",
      "FDM X DAC Project | Team-Lead | Jan 2024 – Apr 2024\n",
      "\n",
      "Built and automated web scrapers to scrape data from dynamic websites.\n",
      "\n",
      "Created a Natural Language Processing (NLP) pipeline to analyse textual data.\n",
      "\n",
      "Working on delivering an LLM application that returns optimised job descriptions for the client.\n",
      "\n",
      "Uber Global X Barcelona Hackathon | Team-Lead | Sep 2023 – Oct 2023\n",
      "\n",
      "Analysed datasets on Python to identify issues to improve Uber’s presence in Barcelona.\n",
      "\n",
      "Developed a tailored solution to improve Uber’s system in less accessible city areas.\n",
      "\n",
      "Introduced machine learning tools to highlight and improve Uber’s services in the city.\n",
      "\n",
      "SIM Innovations and Networking Society (IONS) | Vice-President | Oct 2022 – Jan 2024\n",
      "\n",
      "Orchestrated and coordinated new hackathon projects for 60 ambassadors and guided ambassadors on hackathon objectives.\n",
      "\n",
      "Recruited a panel of speakers and mentors for ambassadors to network and gain mentorship.\n",
      "Introduced machine learning tools to highlight and improve Uber’s services in the city.\n",
      "\n",
      "SIM Innovations and Networking Society (IONS) | Vice-President | Oct 2022 – Jan 2024\n",
      "\n",
      "Orchestrated and coordinated new hackathon projects for 60 ambassadors and guided ambassadors on hackathon objectives.\n",
      "\n",
      "Recruited a panel of speakers and mentors for ambassadors to network and gain mentorship.\n",
      "\n",
      "Coordinated and directed an insightful workshop on the fundamentals of Figma.\n",
      "\n",
      "SKILLS AND CERTIFICATIONS\n",
      "\n",
      "Skills: Python, ML, NLP, SQL, PowerBI, Tableau, Excel, Airflow, LangChain, LangSmith, LangGraph, Prompt Engineering, RAG.\n",
      "\n",
      "Databases: AWS RedShift, Azure Synapse, Google BigQuery.\n",
      "\n",
      "Interests: Data Science, gymming, Lego collection, entrepreneurship and hackathons.\n",
      "6\n"
     ]
    }
   ],
   "source": [
    "word_splitter = RecursiveCharacterTextSplitter(chunk_size=1000, chunk_overlap=400)\n",
    "\n",
    "word = word_splitter.split_documents(word_doc)\n",
    "\n",
    "print(word)\n",
    "\n",
    "for i in range(len(word)):\n",
    "    print(word[i].page_content)\n",
    "print(len(word)) # 4 Chunks Only"
   ]
  },
  {
   "cell_type": "code",
   "execution_count": 91,
   "metadata": {},
   "outputs": [
    {
     "name": "stdout",
     "output_type": "stream",
     "text": [
      "[Document(metadata={'source': 'https://johnyeow23.github.io/JunYeow-Website/', 'title': \"Jun Yeow's Portfolio\", 'language': 'No language found.'}, page_content=\"Jun Yeow's Portfolio\\n\\n\\n\\n\\n\\n\\n\\n\\n\\n\\n\\nWelcome\\nWork\\nProjects\\nLeadership\\nContact Me!!\\n\\n\\n\\n\\n\\n\\n\\n\\n\\nHi there! I am Jun Yeow \\nI am a Data Science student at the University of London with a strong passion for Machine Learning \\r\\n\\t\\t\\t\\t\\t\\t\\tand Analytics. Explore my projects and work experiences below, and learn more about me on my personal \\r\\n\\t\\t\\t\\t\\t\\t\\twebsite or from my \\r\\n\\t\\t\\t\\t\\t\\t\\t\\tresume and my \\r\\n\\t\\t\\t\\t\\t\\t\\t\\tLinkedIn.\\n\\n\\n\\nTechnical Skills\\n\\n\\n\\n\\n\\nSQL\\r\\n\\t\\t\\t\\t\\t\\t\\t\\t\\t\\n\\n\\nPython\\r\\n\\t\\t\\t\\t\\t\\t\\t\\t\\t\\n\\n\\nGit\\r\\n\\t\\t\\t\\t\\t\\t\\t\\t\\t\\n\\n\\nPowerBI\\r\\n\\t\\t\\t\\t\\t\\t\\t\\t\\t\\n\\n\\nTableau\\r\\n\\t\\t\\t\\t\\t\\t\\t\\t\\t\\n\\n\\nScikit-Learn\\r\\n\\t\\t\\t\\t\\t\\t\\t\\t\\t\\n\\n\\nSeaborn\\r\\n\\t\\t\\t\\t\\t\\t\\t\\t\\t\\n\\n\\nPandas\\r\\n\\t\\t\\t\\t\\t\\t\\t\\t\\t\\n\\n\\nNumPy\\r\\n\\t\\t\\t\\t\\t\\t\\t\\t\\t\\n\\n\\nMatplotlib\\r\\n\\t\\t\\t\\t\\t\\t\\t\\t\\t\\n\\n\\nFolium\\r\\n\\t\\t\\t\\t\\t\\t\\t\\t\\t\\n\\n\\nPlotly\\r\\n\\t\\t\\t\\t\\t\\t\\t\\t\\t\\n\\n\\nLangChain\\r\\n\\t\\t\\t\\t\\t\\t\\t\\t\\t\\n\\n\\nLangSmith\\r\\n\\t\\t\\t\\t\\t\\t\\t\\t\\t\\n\\n\\nLangGraph\\r\\n\\t\\t\\t\\t\\t\\t\\t\\t\\t\\n\\n\\ndbt\"), Document(metadata={'source': 'https://johnyeow23.github.io/JunYeow-Website/', 'title': \"Jun Yeow's Portfolio\", 'language': 'No language found.'}, page_content='Pandas\\r\\n\\t\\t\\t\\t\\t\\t\\t\\t\\t\\n\\n\\nNumPy\\r\\n\\t\\t\\t\\t\\t\\t\\t\\t\\t\\n\\n\\nMatplotlib\\r\\n\\t\\t\\t\\t\\t\\t\\t\\t\\t\\n\\n\\nFolium\\r\\n\\t\\t\\t\\t\\t\\t\\t\\t\\t\\n\\n\\nPlotly\\r\\n\\t\\t\\t\\t\\t\\t\\t\\t\\t\\n\\n\\nLangChain\\r\\n\\t\\t\\t\\t\\t\\t\\t\\t\\t\\n\\n\\nLangSmith\\r\\n\\t\\t\\t\\t\\t\\t\\t\\t\\t\\n\\n\\nLangGraph\\r\\n\\t\\t\\t\\t\\t\\t\\t\\t\\t\\n\\n\\ndbt\\r\\n\\t\\t\\t\\t\\t\\t\\t\\t\\t\\n\\n\\n\\n\\n\\n\\n\\n\\n\\n\\n\\n\\nGrab | People Data Analytics Intern | Jan 2024 - Aug 2024\\nHuman Resource Analytics Internship at Grab, where I worked on projects to improve the employee experience\\r\\n\\t\\t\\t\\t\\t\\t\\t\\t\\t\\tand promoting a data-driven culture within the HR department.\\r\\n\\t\\t\\t\\t\\t\\t\\t\\t\\t\\n\\nLed Data Literacy Program across 6 countries, boosting data proficiency by 40% among 80+ employees via targeted training.\\nAnalysed meeting cadences, improving employee performance metrics by 15% through optimised scheduling.\\nCreated PowerBI dashboards for 8 offices, increasing space efficiency by 20% and saving $3.51M in costs.\\nDeveloped LLM-based RAG system for workforce reports, cutting time-to-hire by 2 weeks across markets.'), Document(metadata={'source': 'https://johnyeow23.github.io/JunYeow-Website/', 'title': \"Jun Yeow's Portfolio\", 'language': 'No language found.'}, page_content=\"foodpanda | Logistic Analytics Engineering Intern | Aug 2024 - Dec 2024\\nLogistics Analytics Internship at foodpanda, where I worked on projects to improving and optimising rider supply to meet customer's demand.\\r\\n\\t\\t\\t\\t\\t\\t\\t\\t\\t\\n\\nOptimised query performance by building and testing data transformation tables using dbt and SQL, resulting in improved data reliability and 10% faster reporting times.\\nWorking on increasing delivery driver supply by 10% by analysing rider data implementing a predictive model for peak demand periods and reducing order cancellations.\\nWorking on reducing 10% reduction in cost per order by optimising rider payments while maintaining competitive compensation.\\n\\n\\n\\n\\n\\n\\n\\n\\n\\n\\n\\n\\n\\n\\n\\n\\n\\nProjects\\nWelcome to my projects showcase, where I bring my ideas to life! Below are some of the exciting projects I have worked on:\"), Document(metadata={'source': 'https://johnyeow23.github.io/JunYeow-Website/', 'title': \"Jun Yeow's Portfolio\", 'language': 'No language found.'}, page_content='Projects\\nWelcome to my projects showcase, where I bring my ideas to life! Below are some of the exciting projects I have worked on:\\n\\n\\n\\n\\nFDM x DAC Competitive Job Analysis\\nAn external project with FDM in collaboration with the SIM Data Analytics Club. My team and I delved into \\r\\n\\t\\t\\t\\t\\t\\t\\t\\t\\t\\tjob description competitive analysis.\\n\\nCheck it out here!\\n\\n\\n\\n\\n\\n\\n\\n\\n\\n\\n\\n\\n\\nSIM Data Analytics Club (DAC) | President\\n\\n\\n\\nOrchestrated weekly reviews on ML and data science concepts increasing member proficiency.\\nCoordinated and taught, ML and SQL lessons to over 100 SIM students resulting in an improvement in coding proficiency.\\nAssisted in peer-to-peer learning and teaching of Python and SQL accelerating skill development in data analysis.\\n\\n\\nCheck us out!\\n\\n\\n\\n\\n\\n\\n\\n\\nSIM Innovations and Networking Society (IONS) | Vice-President'), Document(metadata={'source': 'https://johnyeow23.github.io/JunYeow-Website/', 'title': \"Jun Yeow's Portfolio\", 'language': 'No language found.'}, page_content='Check us out!\\n\\n\\n\\n\\n\\n\\n\\n\\nSIM Innovations and Networking Society (IONS) | Vice-President\\n\\nOrchestrated and coordinated new hackathon projects for 60 ambassadors and guided ambassadors on hackathon objectives.\\nRecruited a panel of speakers and mentors for ambassadors to network and gain mentorship.\\nCoordinated and directed an insightful workshop on the fundamentals of Figma.\\n\\n\\nCheck us out!\\n\\n\\n\\n\\n\\n\\n\\n\\n\\n\\n\\n\\n\\n\\nStay in touch with me!\\nEmail\\nTelegram\\n\\n\\n\\n\\nLinkedIn\\nGitHub\\nYoutube\\nInstagram\\n\\n\\n\\n\\n\\n\\n\\n\\n\\n\\n\\n\\n\\n© Untitled. All rights reserved. I will steal your dataDesign to rob your data and why are you reading the fine print hahah')]\n",
      "5\n"
     ]
    }
   ],
   "source": [
    "web_splitter = RecursiveCharacterTextSplitter(chunk_size=1000, chunk_overlap=200)\n",
    "\n",
    "web_content = web_splitter.split_documents(web)\n",
    "\n",
    "print(web_content)\n",
    "print(len(web_content))"
   ]
  },
  {
   "cell_type": "code",
   "execution_count": 92,
   "metadata": {},
   "outputs": [
    {
     "name": "stdout",
     "output_type": "stream",
     "text": [
      "[Document(metadata={'source': \"media/Jun Yeow's Resume.md\", 'category_depth': 0, 'languages': ['eng'], 'file_directory': 'media', 'filename': \"Jun Yeow's Resume.md\", 'filetype': 'text/markdown', 'last_modified': '2024-11-16T17:03:21', 'category': 'Title', 'element_id': 'a367c5494622850350cbe80b8ee98c1a'}, page_content='# Hello!! I am Jun Yeow 👋'), Document(metadata={'source': \"media/Jun Yeow's Resume.md\", 'category_depth': 2, 'emphasized_text_contents': ['Aspiring AI Engineer | With a Passion in Data Science and Data Engineering'], 'emphasized_text_tags': ['b'], 'languages': ['eng'], 'file_directory': 'media', 'filename': \"Jun Yeow's Resume.md\", 'filetype': 'text/markdown', 'last_modified': '2024-11-16T17:03:21', 'parent_id': 'a367c5494622850350cbe80b8ee98c1a', 'category': 'Title', 'element_id': 'cbf8940cb129844d4e74d6ebdfa4be15'}, page_content='Aspiring AI Engineer | With a Passion in Data Science and Data Engineering'), Document(metadata={'source': \"media/Jun Yeow's Resume.md\", 'languages': ['eng'], 'file_directory': 'media', 'filename': \"Jun Yeow's Resume.md\", 'filetype': 'text/markdown', 'last_modified': '2024-11-16T17:03:21', 'parent_id': 'cbf8940cb129844d4e74d6ebdfa4be15', 'category': 'NarrativeText', 'element_id': 'b6327aaf313cbd40f445adfc9d17d3cc'}, page_content=\"## :man_technologist: About Me: - University of London's 3rd year Data Science and Business Analytics student. - Currently working as a **Logistics Analytics Engineering Intern in foodpanda**. - President of the Data Analytics Club - Full time bug creator and data validator\"), Document(metadata={'source': \"media/Jun Yeow's Resume.md\", 'category_depth': 1, 'languages': ['eng'], 'file_directory': 'media', 'filename': \"Jun Yeow's Resume.md\", 'filetype': 'text/markdown', 'last_modified': '2024-11-16T17:03:21', 'parent_id': 'a367c5494622850350cbe80b8ee98c1a', 'category': 'Title', 'element_id': '650d0605054e6a69628e61f7f62e6076'}, page_content=':fire: Tech Skills:'), Document(metadata={'source': \"media/Jun Yeow's Resume.md\", 'category_depth': 1, 'emphasized_text_contents': ['Pandas', 'Numpy', 'SQL'], 'emphasized_text_tags': ['b', 'b', 'b'], 'languages': ['eng'], 'file_directory': 'media', 'filename': \"Jun Yeow's Resume.md\", 'filetype': 'text/markdown', 'last_modified': '2024-11-16T17:03:21', 'parent_id': '650d0605054e6a69628e61f7f62e6076', 'category': 'ListItem', 'element_id': 'a9fb952907dad78184674b29c7517123'}, page_content='Data Analysis: Pandas, Numpy and SQL'), Document(metadata={'source': \"media/Jun Yeow's Resume.md\", 'category_depth': 1, 'emphasized_text_contents': ['Machine Learning', 'GenAI'], 'emphasized_text_tags': ['b', 'b'], 'languages': ['eng'], 'file_directory': 'media', 'filename': \"Jun Yeow's Resume.md\", 'filetype': 'text/markdown', 'last_modified': '2024-11-16T17:03:21', 'parent_id': '650d0605054e6a69628e61f7f62e6076', 'category': 'ListItem', 'element_id': 'd18320356860a6a47ed2086e7082c3f0'}, page_content='Data Science Machine Learning and GenAI'), Document(metadata={'source': \"media/Jun Yeow's Resume.md\", 'category_depth': 1, 'emphasized_text_contents': ['Tableau', 'PowerBI', 'Looker Studio'], 'emphasized_text_tags': ['b', 'b', 'b'], 'languages': ['eng'], 'file_directory': 'media', 'filename': \"Jun Yeow's Resume.md\", 'filetype': 'text/markdown', 'last_modified': '2024-11-16T17:03:21', 'parent_id': '650d0605054e6a69628e61f7f62e6076', 'category': 'ListItem', 'element_id': '5ea4159d134bf5cd54d22e7250982a3a'}, page_content='Data Visualisation: Tableau, PowerBI and Looker Studio'), Document(metadata={'source': \"media/Jun Yeow's Resume.md\", 'category_depth': 1, 'emphasized_text_contents': ['Apache Airflow', 'Dockers', 'Database Management'], 'emphasized_text_tags': ['b', 'b', 'b'], 'languages': ['eng'], 'file_directory': 'media', 'filename': \"Jun Yeow's Resume.md\", 'filetype': 'text/markdown', 'last_modified': '2024-11-16T17:03:21', 'parent_id': '650d0605054e6a69628e61f7f62e6076', 'category': 'ListItem', 'element_id': '2cc44f1d16f9d26706a62813e7e77739'}, page_content='Data Engineering: Apache Airflow, Dockers and Database Management'), Document(metadata={'source': \"media/Jun Yeow's Resume.md\", 'languages': ['eng'], 'file_directory': 'media', 'filename': \"Jun Yeow's Resume.md\", 'filetype': 'text/markdown', 'last_modified': '2024-11-16T17:03:21', 'parent_id': '650d0605054e6a69628e61f7f62e6076', 'category': 'NarrativeText', 'element_id': '002b824d9aad7c60c5368badd857ef1b'}, page_content='python john_dict = { \"code\": [\"Python\", \"SQL\", \"HTML\", \"CSS\"] \"tools\": [\"Tableau\", \"PowerBI\", \"dbt\", \"GitHub\"] \"databases\": [\"MySql\", \"PostgreSQL\", \"RedShift\", \"BigQuery\"] \"hobbies\": Error 404 😭 }'), Document(metadata={'source': \"media/Jun Yeow's Resume.md\", 'category_depth': 1, 'languages': ['eng'], 'file_directory': 'media', 'filename': \"Jun Yeow's Resume.md\", 'filetype': 'text/markdown', 'last_modified': '2024-11-16T17:03:21', 'parent_id': 'a367c5494622850350cbe80b8ee98c1a', 'category': 'Title', 'element_id': '654b068194c58e0abda7c005a5f25ac2'}, page_content=':computer: My Projects:'), Document(metadata={'source': \"media/Jun Yeow's Resume.md\", 'category_depth': 1, 'emphasized_text_contents': ['AI Web Scraper'], 'emphasized_text_tags': ['b'], 'link_texts': ['AI Web Scraper', 'Try the live demo on Streamlit!'], 'link_urls': ['https://github.com/JohnYeow23/ai_webber/tree/main', 'https://aiwebber-c2w8dfibt3htpgwtpswmif.streamlit.app/'], 'languages': ['eng'], 'file_directory': 'media', 'filename': \"Jun Yeow's Resume.md\", 'filetype': 'text/markdown', 'last_modified': '2024-11-16T17:03:21', 'parent_id': '654b068194c58e0abda7c005a5f25ac2', 'category': 'ListItem', 'element_id': '6a045d61e139c0c02c5333ae6f356d71'}, page_content='AI Web Scraper: An AI-powered web scraper that lets users extract and query information from any website by providing a URL. The app scrapes the site, retrieves its DOM content, and allows for targeted queries via AI. Built with tools like Selenium, BeautifulSoup, LangChain, and Streamlit, it offers a user-friendly UI and showcases the potential of combining web scraping with AI for interactive data extraction. Try the live demo on Streamlit!'), Document(metadata={'source': \"media/Jun Yeow's Resume.md\", 'category_depth': 1, 'languages': ['eng'], 'file_directory': 'media', 'filename': \"Jun Yeow's Resume.md\", 'filetype': 'text/markdown', 'last_modified': '2024-11-16T17:03:21', 'parent_id': 'a367c5494622850350cbe80b8ee98c1a', 'category': 'Title', 'element_id': 'c0e47337b9574e559789ca43dbef0c0d'}, page_content=':dancers: Communities:'), Document(metadata={'source': \"media/Jun Yeow's Resume.md\", 'link_texts': ['SIM DAC'], 'link_urls': ['https://github.com/DACSIM/DAC-Curriculum'], 'languages': ['eng'], 'file_directory': 'media', 'filename': \"Jun Yeow's Resume.md\", 'filetype': 'text/markdown', 'last_modified': '2024-11-16T17:03:21', 'parent_id': 'c0e47337b9574e559789ca43dbef0c0d', 'category': 'NarrativeText', 'element_id': '497f9153a77f760c2c6223e7007cfd4c'}, page_content='Lead contributor at SIM DAC - This open-source curriculum, DACademy, was developed under my leadership as the president of the club, to serve as a comprehensive resource for SIM students interested in data analytics. Designed to be beginner-friendly, DACademy covers fundamental skills such as Python, machine learning and SQL, empowering students to build a solid foundation in data analysis. In addition to leading the curriculum’s creation, I have taught key topics, helping students apply these skills through real-world projects and interactive sessions.'), Document(metadata={'source': \"media/Jun Yeow's Resume.md\", 'link_texts': ['SIM DSA'], 'link_urls': ['https://github.com/DACSIM/DSA-Curriculum'], 'languages': ['eng'], 'file_directory': 'media', 'filename': \"Jun Yeow's Resume.md\", 'filetype': 'text/markdown', 'last_modified': '2024-11-16T17:03:21', 'parent_id': 'c0e47337b9574e559789ca43dbef0c0d', 'category': 'NarrativeText', 'element_id': '286789c2ff1981326a1bc02fb06e5dad'}, page_content='Lead contributor at SIM DSA, the advanced data science curriculum at SIM, was developed under my leadership to address the needs of students interested in deeper data science topics like deep learning, data engineering and generative AI. This curriculum provides hands-on projects and resources that allow students to master advanced concepts. I have also taught various topics within this curriculum, helping students engage with cutting-edge data science techniques and gain practical experience.'), Document(metadata={'source': \"media/Jun Yeow's Resume.md\", 'category_depth': 0, 'languages': ['eng'], 'file_directory': 'media', 'filename': \"Jun Yeow's Resume.md\", 'filetype': 'text/markdown', 'last_modified': '2024-11-16T17:03:21', 'category': 'Title', 'element_id': 'ca044c98ea668f86bb8d8d2c8e300b0a'}, page_content='Visitor count')]\n",
      "15\n"
     ]
    }
   ],
   "source": [
    "readme_splitter = RecursiveCharacterTextSplitter(chunk_size=2000, chunk_overlap=400)\n",
    "\n",
    "readme = readme_splitter.split_documents(readme_data)\n",
    "\n",
    "print(readme)\n",
    "print(len(readme))"
   ]
  },
  {
   "cell_type": "code",
   "execution_count": 93,
   "metadata": {},
   "outputs": [
    {
     "name": "stdout",
     "output_type": "stream",
     "text": [
      "<class 'list'>\n",
      "26\n",
      "page_content='YEO JUN YEOW | Penultimate student in Data Science and Business Analytics Undergraduate \n",
      "93721423 | Email | LinkedIn | GitHub | Website\n",
      "\n",
      "EDUCATION\n",
      "\n",
      "University of London (UOL) | Aug 2022 – Present\n",
      "\n",
      "Bachelor of Science (Honours) in Data Science and Business Analytics \n",
      "\n",
      "Relevant coursework: Introduction to Programming in Python and R, Advanced Statistics in Distribution Theory, Advanced Statistics in Statistics Inference and SQL\n",
      "\n",
      "Current Grade: “A” (On track to First Class Honours)\n",
      "\n",
      "WORK EXPERIENCE\n",
      "\n",
      "foodpanda | Logistics Analytics Engineer Internship | Aug 2024 – Present\n",
      "\n",
      "Optimised query performance by building and testing data transformation tables using dbt and SQL, resulting in improved data reliability and 10% faster reporting times.\n",
      "\n",
      "Working on increasing delivery driver supply by 10% by analysing rider data implementing a predictive model for peak demand periods and reducing order cancellations.' metadata={'source': \"media/Jun Yeow's Resume _ 18_08_2024.docx\"}\n"
     ]
    }
   ],
   "source": [
    "# Let's create a combined list instead\n",
    "combined = word + web_content + readme\n",
    "print(type(combined))\n",
    "print(len(combined))\n",
    "print(combined[0])"
   ]
  },
  {
   "cell_type": "markdown",
   "metadata": {},
   "source": [
    "### Let's embed this resume first before adding other informationn into the mix, like\n",
    "    1. My personal website\n",
    "    2. My readme.md\n",
    "    3. Maybe a short description about myself documentation\n",
    "    4. Recommendation letter from past employment "
   ]
  },
  {
   "cell_type": "code",
   "execution_count": 94,
   "metadata": {},
   "outputs": [],
   "source": [
    "connect_string = os.getenv(\"CONNECTION_STRING\")\n",
    "\n",
    "collect_word = os.getenv(\"COLLECTION_NAME_WORD\")\n",
    "collect_readme = os.getenv(\"COLLECTION_NAME_README\")\n",
    "collect_web = os.getenv(\"COLLECTION_NAME_WEB\")"
   ]
  },
  {
   "cell_type": "code",
   "execution_count": 95,
   "metadata": {},
   "outputs": [],
   "source": [
    "# Straight forward approach\n",
    "vectorstore=PGVector(\n",
    "    embedding_function=embeddings,\n",
    "    collection_name=collect_word,\n",
    "    connection_string=connect_string,\n",
    "    use_jsonb=True,\n",
    ")\n",
    "\n",
    "vectors = vectorstore.add_documents(combined)"
   ]
  },
  {
   "cell_type": "code",
   "execution_count": null,
   "metadata": {},
   "outputs": [],
   "source": [
    "# Create information for each of the different datasource\n",
    "# vectorstore_word=PGVector(\n",
    "#     embedding_function=embeddings,\n",
    "#     collection_name=collect_word,\n",
    "#     connection_string=connect_string,\n",
    "#     use_jsonb=True,\n",
    "# )\n",
    "\n",
    "# vectorstore_word.add_documents(word)\n",
    "\n",
    "# vectorstore_readme=PGVector(\n",
    "#     embedding_function=embeddings,\n",
    "#     collection_name=collect_readme,\n",
    "#     connection_string=connect_string,\n",
    "#     use_jsonb=True,\n",
    "# )\n",
    "\n",
    "# vectorstore_word.add_documents(readme)\n",
    "\n",
    "# vectorstore_web=PGVector(\n",
    "#     embedding_function=embeddings,\n",
    "#     collection_name=collect_web,\n",
    "#     connection_string=connect_string,\n",
    "#     use_jsonb=True,\n",
    "# )\n",
    "\n",
    "# vectorstore_word.add_documents(web_content)"
   ]
  },
  {
   "cell_type": "markdown",
   "metadata": {},
   "source": [
    "### Let's checkout if the rows exist within our SQL table.\n",
    "### Before using similarity search to find relevant information to our query"
   ]
  },
  {
   "cell_type": "code",
   "execution_count": 96,
   "metadata": {},
   "outputs": [
    {
     "name": "stdout",
     "output_type": "stream",
     "text": [
      "-------------\n",
      "# Hello!! I am Jun Yeow 👋\n",
      "-------------\n",
      "0.4432735873242737\n",
      "-------------\n",
      "YEO JUN YEOW | Penultimate student in Data Science and Business Analytics Undergraduate \n",
      "93721423 | Email | LinkedIn | GitHub | Website\n",
      "\n",
      "EDUCATION\n",
      "\n",
      "University of London (UOL) | Aug 2022 – Present\n",
      "\n",
      "Bachelor of Science (Honours) in Data Science and Business Analytics \n",
      "\n",
      "Relevant coursework: Introduction to Programming in Python and R, Advanced Statistics in Distribution Theory, Advanced Statistics in Statistics Inference and SQL\n",
      "\n",
      "Current Grade: “A” (On track to First Class Honours)\n",
      "\n",
      "WORK EXPERIENCE\n",
      "\n",
      "foodpanda | Logistics Analytics Engineer Internship | Aug 2024 – Present\n",
      "\n",
      "Optimised query performance by building and testing data transformation tables using dbt and SQL, resulting in improved data reliability and 10% faster reporting times.\n",
      "\n",
      "Working on increasing delivery driver supply by 10% by analysing rider data implementing a predictive model for peak demand periods and reducing order cancellations.\n",
      "-------------\n",
      "0.5062192527585284\n",
      "-------------\n",
      "Jun Yeow's Portfolio\n",
      "\n",
      "\n",
      "\n",
      "\n",
      "\n",
      "\n",
      "\n",
      "\n",
      "\n",
      "\n",
      "\n",
      "Welcome\n",
      "Work\n",
      "Projects\n",
      "Leadership\n",
      "Contact Me!!\n",
      "\n",
      "\n",
      "\n",
      "\n",
      "\n",
      "\n",
      "\n",
      "\n",
      "\n",
      "Hi there! I am Jun Yeow \n",
      "I am a Data Science student at the University of London with a strong passion for Machine Learning \n",
      "\t\t\t\t\t\t\tand Analytics. Explore my projects and work experiences below, and learn more about me on my personal \n",
      "\t\t\t\t\t\t\twebsite or from my \n",
      "\t\t\t\t\t\t\t\tresume and my \n",
      "\t\t\t\t\t\t\t\tLinkedIn.\n",
      "\n",
      "\n",
      "\n",
      "Technical Skills\n",
      "\n",
      "\n",
      "\n",
      "\n",
      "\n",
      "SQL\n",
      "\t\t\t\t\t\t\t\t\t\n",
      "\n",
      "\n",
      "Python\n",
      "\t\t\t\t\t\t\t\t\t\n",
      "\n",
      "\n",
      "Git\n",
      "\t\t\t\t\t\t\t\t\t\n",
      "\n",
      "\n",
      "PowerBI\n",
      "\t\t\t\t\t\t\t\t\t\n",
      "\n",
      "\n",
      "Tableau\n",
      "\t\t\t\t\t\t\t\t\t\n",
      "\n",
      "\n",
      "Scikit-Learn\n",
      "\t\t\t\t\t\t\t\t\t\n",
      "\n",
      "\n",
      "Seaborn\n",
      "\t\t\t\t\t\t\t\t\t\n",
      "\n",
      "\n",
      "Pandas\n",
      "\t\t\t\t\t\t\t\t\t\n",
      "\n",
      "\n",
      "NumPy\n",
      "\t\t\t\t\t\t\t\t\t\n",
      "\n",
      "\n",
      "Matplotlib\n",
      "\t\t\t\t\t\t\t\t\t\n",
      "\n",
      "\n",
      "Folium\n",
      "\t\t\t\t\t\t\t\t\t\n",
      "\n",
      "\n",
      "Plotly\n",
      "\t\t\t\t\t\t\t\t\t\n",
      "\n",
      "\n",
      "LangChain\n",
      "\t\t\t\t\t\t\t\t\t\n",
      "\n",
      "\n",
      "LangSmith\n",
      "\t\t\t\t\t\t\t\t\t\n",
      "\n",
      "\n",
      "LangGraph\n",
      "\t\t\t\t\t\t\t\t\t\n",
      "\n",
      "\n",
      "dbt\n",
      "-------------\n",
      "0.5581869773958839\n",
      "-------------\n",
      "Pandas\n",
      "\t\t\t\t\t\t\t\t\t\n",
      "\n",
      "\n",
      "NumPy\n",
      "\t\t\t\t\t\t\t\t\t\n",
      "\n",
      "\n",
      "Matplotlib\n",
      "\t\t\t\t\t\t\t\t\t\n",
      "\n",
      "\n",
      "Folium\n",
      "\t\t\t\t\t\t\t\t\t\n",
      "\n",
      "\n",
      "Plotly\n",
      "\t\t\t\t\t\t\t\t\t\n",
      "\n",
      "\n",
      "LangChain\n",
      "\t\t\t\t\t\t\t\t\t\n",
      "\n",
      "\n",
      "LangSmith\n",
      "\t\t\t\t\t\t\t\t\t\n",
      "\n",
      "\n",
      "LangGraph\n",
      "\t\t\t\t\t\t\t\t\t\n",
      "\n",
      "\n",
      "dbt\n",
      "\t\t\t\t\t\t\t\t\t\n",
      "\n",
      "\n",
      "\n",
      "\n",
      "\n",
      "\n",
      "\n",
      "\n",
      "\n",
      "\n",
      "\n",
      "\n",
      "Grab | People Data Analytics Intern | Jan 2024 - Aug 2024\n",
      "Human Resource Analytics Internship at Grab, where I worked on projects to improve the employee experience\n",
      "\t\t\t\t\t\t\t\t\t\tand promoting a data-driven culture within the HR department.\n",
      "\t\t\t\t\t\t\t\t\t\n",
      "\n",
      "Led Data Literacy Program across 6 countries, boosting data proficiency by 40% among 80+ employees via targeted training.\n",
      "Analysed meeting cadences, improving employee performance metrics by 15% through optimised scheduling.\n",
      "Created PowerBI dashboards for 8 offices, increasing space efficiency by 20% and saving $3.51M in costs.\n",
      "Developed LLM-based RAG system for workforce reports, cutting time-to-hire by 2 weeks across markets.\n",
      "-------------\n",
      "0.5850310262797264\n",
      "-------------\n",
      "Optimised query performance by building and testing data transformation tables using dbt and SQL, resulting in improved data reliability and 10% faster reporting times.\n",
      "\n",
      "Working on increasing delivery driver supply by 10% by analysing rider data implementing a predictive model for peak demand periods and reducing order cancellations.\n",
      "\n",
      "Working on reducing 10% reduction in cost per order by optimising rider payments while maintaining competitive compensation.\n",
      "\n",
      "Grab | People Data Analytics Internship | Jan 2024 – Aug 2024 \n",
      "\n",
      "Led Data Literacy Program across 6 countries, boosting data proficiency by 40% among 80+ employees via hands-on and pre-recorded training sessions.\n",
      "\n",
      "Analysed meeting cadences, improving employee performance metrics by 15% through optimised scheduling.\n",
      "\n",
      "Created PowerBI dashboards for 8 offices, providing an overview of resource planning and management, increasing space efficiency by 20% and saving $3.51M in costs.\n",
      "-------------\n",
      "0.5875502004920212\n"
     ]
    }
   ],
   "source": [
    "# Test the db \n",
    "query = \"Did Jun Yeow work in Grab?\"\n",
    "\n",
    "similar = vectorstore.similarity_search_with_score(query, k=5)\n",
    "\n",
    "for doc in similar:\n",
    "    print('-------------')\n",
    "    print(doc[0].page_content)\n",
    "    print('-------------')\n",
    "    print(doc[1])"
   ]
  },
  {
   "cell_type": "code",
   "execution_count": 97,
   "metadata": {},
   "outputs": [],
   "source": [
    "retriever = vectorstore.as_retriever()"
   ]
  },
  {
   "cell_type": "code",
   "execution_count": 98,
   "metadata": {},
   "outputs": [],
   "source": [
    "system_prompt = (\n",
    "    \"You are an AI assistant designed to answer questions from hiring managers and recruiters \"\n",
    "    \"regarding Jun Yeow's professional background, skills, and experiences. Utilize the provided \"\n",
    "    \"context to deliver accurate and concise responses. If the information is not available in the \"\n",
    "    \"context, respond with 'I'm sorry, but I don't have that information.' \"\n",
    "    \"maximum of three sentences.\"\n",
    "    \"\\n\\n\"\n",
    "    \"{context}\"\n",
    ")\n",
    "\n",
    "prompt = ChatPromptTemplate(\n",
    "    [\n",
    "        ('system', system_prompt),\n",
    "        ('human', \"{input}\")\n",
    "    ]\n",
    ")"
   ]
  },
  {
   "cell_type": "code",
   "execution_count": 99,
   "metadata": {},
   "outputs": [],
   "source": [
    "question_answer_chain = create_stuff_documents_chain(gpt, prompt)\n",
    "rag_chain = create_retrieval_chain(retriever, question_answer_chain)"
   ]
  },
  {
   "cell_type": "code",
   "execution_count": 102,
   "metadata": {},
   "outputs": [
    {
     "name": "stdout",
     "output_type": "stream",
     "text": [
      "Jun Yeow is a penultimate student pursuing a Bachelor of Science (Honours) in Data Science and Business Analytics at the University of London, currently on track for First Class Honours. He has experience as a Logistics Analytics Engineer Intern at Foodpanda and previously worked as a People Data Analytics Intern at Grab. His skills include programming in Python, R, and SQL, as well as proficiency in data tools like PowerBI and Tableau.\n",
      "At Grab, Jun Yeow served as a People Data Analytics Intern from January 2024 to August 2024. He led a Data Literacy Program across six countries, improving proficiency for over 80 employees by 40%. He also enhanced employee performance by 15% through optimized meeting cadences, developed PowerBI dashboards that increased space efficiency by 20% resulting in $3.51M in cost savings, and built an LLM-based RAG system for workforce reports, reducing time-to-hire by two weeks across markets.\n",
      "Yes, Jun Yeow's LinkedIn profile can be found at [Profile](https://www.linkedin.com/in/junyeow/).\n",
      "Jun Yeow's skills include programming in Python, R, and SQL; data tools like PowerBI, Tableau, Excel, and Airflow; advanced techniques in Machine Learning, NLP, Prompt Engineering, and RAG Systems; and platforms such as AWS RedShift, Azure Synapse, and Google BigQuery.\n",
      "Jun Yeow, as President of the SIM Data Analytics Club (DAC), conducted weekly machine learning and SQL lessons for over 100 students to enhance their proficiency in coding and data analysis. Additionally, he facilitated peer-to-peer learning sessions to accelerate skill development within the club.\n",
      "Jun Yeow's strong foundation in programming languages like Python and R, combined with his expertise in data tools such as PowerBI and Tableau, positions him well for data science. His experience with machine learning, NLP, and advanced analytics techniques, as well as his hands-on roles in projects and internships, demonstrate his capability to apply technical skills to solve real-world problems. Additionally, his leadership roles in various hackathons and clubs highlight his ability to lead teams and coordinate data-driven initiatives effectively.\n"
     ]
    }
   ],
   "source": [
    "response = rag_chain.batch(\n",
    "    [\n",
    "        {\"input\": \"Hey tell me a little about Jun Yeow\"}, \n",
    "        {\"input\": \"Can you tell me more about Jun Yeow's work in Grab?\"},\n",
    "        {\"input\": \"Can I have Jun Yeow's Linkedin?\"},\n",
    "        {\"input\": \"What kind of skills does Jun Yeow have?\"},\n",
    "        {\"input\": \"Can you tell me Jun Yeow's contribution to DAC\"},\n",
    "        {\"input\": \"What makes him good as a Data scientist?\"}\n",
    "    ]\n",
    ")\n",
    "\n",
    "for answer in response:\n",
    "    print(answer[\"answer\"])"
   ]
  },
  {
   "cell_type": "markdown",
   "metadata": {},
   "source": [
    "### Wah shaggy as we can see the rag system isn't really good at replying our answer other then basic questions let's tune it and evaluate the model better.\n",
    "\n",
    "#### There are many ways to approach this \n",
    "    1) Better quality data more descriptive and well documented information instead of bits and pieces of information from everywhere\n",
    "    2) Evaluating/Fine tuning RAG system "
   ]
  },
  {
   "cell_type": "code",
   "execution_count": 65,
   "metadata": {},
   "outputs": [
    {
     "name": "stdout",
     "output_type": "stream",
     "text": [
      "[Document(metadata={'source': 'media/Jun_Yeow_Organized_Profile.docx'}, page_content=\"Jun Yeow's Profile\\n\\nContact Information\\n\\n- Name: Yeo Jun Yeow\\n- Current Role: Penultimate student in Data Science and Business Analytics Undergraduate\\n- Phone: 93721423\\n- Email: [Contact Email](mailto:junyeow27@gmail.com)\\n- LinkedIn: [Profile]( https://www.linkedin.com/in/junyeow/)\\n- GitHub: [JohnYeow23](https://github.com/JohnYeow23)\\n- Website: [JunYeow-Website](https://johnyeow23.github.io/JunYeow-Website/)\\n\\nEducation\\n\\nUniversity of London (UOL) | Aug 2022 – Present\\n- Degree: Bachelor of Science (Honours) in Data Science and Business Analytics\\n- Relevant Coursework:\\n  - Introduction to Programming in Python and R\\n  - Advanced Statistics (Distribution Theory and Statistical Inference)\\n  - SQL\\n- Current Grade: A (On track to First Class Honours)\\n\\nWork Experience\\n\\nFoodpanda | Logistics Analytics Engineer Intern | Aug 2024 – Present\"), Document(metadata={'source': 'media/Jun_Yeow_Organized_Profile.docx'}, page_content='Work Experience\\n\\nFoodpanda | Logistics Analytics Engineer Intern | Aug 2024 – Present\\n\\n- Optimized query performance with dbt and SQL, increasing data reliability and reducing reporting times by 10%.\\n- Working on a predictive model to boost delivery driver supply by 10% for peak periods and reduce order cancellations.\\n- Aiming for a 10% cost-per-order reduction through optimized rider payments while maintaining competitive compensation.\\n\\nGrab | People Data Analytics Intern | Jan 2024 – Aug 2024\\n\\n- Led a Data Literacy Program across 6 countries, improving proficiency by 40% for 80+ employees.\\n- Enhanced employee performance by 15% via optimized meeting cadences.\\n- Developed PowerBI dashboards to increase space efficiency by 20%, saving $3.51M in costs.\\n- Built an LLM-based RAG system for workforce reports, cutting time-to-hire by 2 weeks across markets.\\n\\nEmpire Code | Python Coding Instructor | Jun 2023 – Jan 2024'), Document(metadata={'source': 'media/Jun_Yeow_Organized_Profile.docx'}, page_content='Empire Code | Python Coding Instructor | Jun 2023 – Jan 2024\\n\\n- Improved Python proficiency of 25 students by 80% through project-based learning.\\n- Boosted engagement by 40% with 10 real-world analytics mini-projects.\\n- Increased curriculum effectiveness by 30% using assessments and personalized learning plans.\\n\\nProjects and Leadership\\n\\nSIM Data Analytics Club (DAC) | President | Apr 2024 – Present\\n\\n- Conducted weekly ML and SQL lessons for 100+ students, enhancing proficiency in coding and data analysis.\\n- Facilitated peer-to-peer learning sessions to accelerate skill development.\\n\\nFDM X DAC Project | Team Lead | Jan 2024 – Apr 2024\\n\\n- Automated web scraping from dynamic websites.\\n- Created NLP pipelines for text analysis.\\n- Delivered an LLM-based application for generating optimized job descriptions.\\n\\nUber Global X Barcelona Hackathon | Team Lead | Sep 2023 – Oct 2023'), Document(metadata={'source': 'media/Jun_Yeow_Organized_Profile.docx'}, page_content='Uber Global X Barcelona Hackathon | Team Lead | Sep 2023 – Oct 2023\\n\\n- Analyzed datasets to identify solutions for improving Uber’s accessibility in Barcelona.\\n- Designed ML tools to enhance service availability in less accessible areas.\\n\\nSIM Innovations and Networking Society (IONS) | Vice-President | Oct 2022 – Jan 2024\\n\\n- Coordinated hackathons for 60 ambassadors, including objectives and mentorship opportunities.\\n- Organized workshops on Figma fundamentals and networked with industry leaders.\\n\\nSkills and Interests\\n\\nSkills\\n\\n- Programming: Python, R, SQL\\n- Data Tools: PowerBI, Tableau, Excel, Airflow\\n- Advanced Techniques: Machine Learning, NLP, Prompt Engineering, RAG Systems\\n- Platforms: AWS RedShift, Azure Synapse, Google BigQuery\\n\\nInterests\\n\\nData Science, gymming, Lego collection, entrepreneurship, hackathons')]\n",
      "4\n"
     ]
    }
   ],
   "source": [
    "# Trying out the newly formatted information instead\n",
    "new_loader = Docx2txtLoader(\"media/Jun_Yeow_Organized_Profile.docx\")\n",
    "\n",
    "new_data = new_loader.load()\n",
    "\n",
    "splitter = RecursiveCharacterTextSplitter(chunk_size=1000, chunk_overlap=200)\n",
    "\n",
    "data = splitter.split_documents(new_data)\n",
    "print(data)\n",
    "print(len(data))"
   ]
  },
  {
   "cell_type": "code",
   "execution_count": 66,
   "metadata": {},
   "outputs": [
    {
     "data": {
      "text/plain": [
       "True"
      ]
     },
     "execution_count": 66,
     "metadata": {},
     "output_type": "execute_result"
    }
   ],
   "source": [
    "load_dotenv()"
   ]
  },
  {
   "cell_type": "code",
   "execution_count": 67,
   "metadata": {},
   "outputs": [],
   "source": [
    "string = os.getenv(\"NEW_CONNECTION_STRING\")\n",
    "name = os.getenv(\"NEW_COLLECTION_NAME\")\n",
    "\n",
    "new_vectorstore=PGVector(\n",
    "    embedding_function=embeddings,\n",
    "    collection_name=name,\n",
    "    connection_string=string,\n",
    "    use_jsonb=True,\n",
    ")\n",
    "\n",
    "vectors = new_vectorstore.add_documents(data)"
   ]
  },
  {
   "cell_type": "code",
   "execution_count": null,
   "metadata": {},
   "outputs": [
    {
     "name": "stdout",
     "output_type": "stream",
     "text": [
      "Jun Yeow is a penultimate student pursuing a Bachelor of Science (Honours) in Data Science and Business Analytics at the University of London, currently on track for First Class Honours. He has interned as a Logistics Analytics Engineer at Foodpanda and as a People Data Analytics Intern at Grab, where he led a Data Literacy Program and developed PowerBI dashboards. Jun Yeow also has experience as a Python Coding Instructor at Empire Code and has led projects such as the Uber Global X Barcelona Hackathon and the FDM X DAC Project.\n",
      "Jun Yeow worked as a People Data Analytics Intern at Grab from January 2024 to August 2024. During this time, he led a Data Literacy Program across 6 countries, improving proficiency by 40% for over 80 employees. He also developed PowerBI dashboards to increase space efficiency by 20%, saving $3.51M in costs, and built an LLM-based RAG system for workforce reports, reducing time-to-hire by 2 weeks across markets.\n",
      "You can view Jun Yeow's LinkedIn profile at [this link](https://www.linkedin.com/in/junyeow/).\n",
      "Jun Yeow has skills in programming (Python, R, SQL), data tools (PowerBI, Tableau, Excel, Airflow), advanced techniques (Machine Learning, NLP, Prompt Engineering, RAG Systems), and is familiar with platforms such as AWS RedShift, Azure Synapse, and Google BigQuery.\n",
      "Jun Yeow, as President of the SIM Data Analytics Club (DAC), conducted weekly machine learning and SQL lessons for over 100 students, enhancing their proficiency in coding and data analysis, and facilitated peer-to-peer learning sessions to accelerate skill development.\n",
      "Jun Yeow has a strong foundation in programming and data tools, including Python, R, SQL, PowerBI, and Tableau, along with advanced techniques in machine learning and NLP. His experience in optimizing processes, such as increasing data reliability and reducing costs in his role at Foodpanda, demonstrates his ability to apply data science skills to real-world problems. Additionally, his leadership in hackathons and projects showcases his capability to innovate and collaborate effectively.\n"
     ]
    }
   ],
   "source": [
    "test_retriever = new_vectorstore.as_retriever()\n",
    "\n",
    "system_prompt = (\n",
    "    \"You are an AI assistant designed to answer questions from hiring managers and recruiters \"\n",
    "    \"regarding Jun Yeow's professional background, skills, and experiences. Utilize the provided \"\n",
    "    \"context to deliver accurate and concise responses. If the information is not available in the \"\n",
    "    \"context, respond with 'I'm sorry, but I don't have that information.' \"\n",
    "    \"maximum of three sentences.\"\n",
    "    \"\\n\\n\"\n",
    "    \"{context}\"\n",
    ")\n",
    "\n",
    "prompt = ChatPromptTemplate(\n",
    "    [\n",
    "        ('system', system_prompt),\n",
    "        ('human', \"{input}\")\n",
    "    ]\n",
    ")\n",
    "\n",
    "question_answer_chain = create_stuff_documents_chain(gpt, prompt)\n",
    "rag_chain = create_retrieval_chain(test_retriever, question_answer_chain)\n",
    "\n",
    "response = rag_chain.batch(\n",
    "    [\n",
    "        {\"input\": \"Hey tell me a little about Jun Yeow\"}, \n",
    "        {\"input\": \"Can you tell me more about Jun Yeow's work in Grab?\"},\n",
    "        {\"input\": \"Can I have Jun Yeow's Linkedin?\"},\n",
    "        {\"input\": \"What kind of skills does Jun Yeow have?\"},\n",
    "        {\"input\": \"Can you tell me Jun Yeow's contribution to DAC\"},\n",
    "        {\"input\": \"What makes him good as a Data scientist?\"}\n",
    "    ]\n",
    ")\n",
    "\n",
    "for answer in response:\n",
    "    print(answer[\"answer\"])\n",
    "\n",
    "# Does seem to have an improvement to the entire quality of answers when we use better data"
   ]
  },
  {
   "cell_type": "code",
   "execution_count": null,
   "metadata": {},
   "outputs": [],
   "source": []
  },
  {
   "cell_type": "code",
   "execution_count": null,
   "metadata": {},
   "outputs": [],
   "source": []
  },
  {
   "cell_type": "code",
   "execution_count": null,
   "metadata": {},
   "outputs": [],
   "source": [
    "# Let's create the database to fit our needs a little better\n",
    "\n",
    "# Connect to PostgreSQL database\n",
    "conn = psycopg2.connect(\n",
    "    dbname=\"johnresume_db\",\n",
    "    user=os.getenv(\"POSTGRES_USER\"),\n",
    "    password=os.getenv(\"POSTGRES_PASSWORD\"),\n",
    "    host=\"localhost\",  # Or your host address\n",
    "    port=\"5432\"        # Default PostgreSQL port\n",
    ")\n",
    "cursor = conn.cursor()"
   ]
  },
  {
   "cell_type": "code",
   "execution_count": null,
   "metadata": {},
   "outputs": [],
   "source": [
    "# Add new columns if they don't already exist\n",
    "try:\n",
    "    # cursor.execute(\"ALTER TABLE langchain_pg_embedding ADD COLUMN IF NOT EXISTS index INTEGER;\")\n",
    "    cursor.execute(\"ALTER TABLE langchain_pg_embedding ADD COLUMN IF NOT EXISTS created_datetime TIMESTAMP;\")\n",
    "except Exception as e:\n",
    "    print(f\"Error adding columns: {e}\")"
   ]
  },
  {
   "cell_type": "code",
   "execution_count": null,
   "metadata": {},
   "outputs": [],
   "source": [
    "# Example data\n",
    "current_time = datetime.now()\n",
    "\n",
    "# Insert data into the table\n",
    "for index in range(len(word)):\n",
    "    try:\n",
    "        cursor.execute(\n",
    "            # \"INSERT INTO langchain_pg_embedding (index, created_datetime) VALUES (%s, %s)\",\n",
    "            \"INSERT INTO langchain_pg_embedding (created_datetime) VALUES (%s)\",\n",
    "            # (index, current_time)\n",
    "            (current_time)\n",
    "        )\n",
    "    except Exception as e:\n",
    "        print(f\"Error inserting data: {e}\")"
   ]
  },
  {
   "cell_type": "code",
   "execution_count": null,
   "metadata": {},
   "outputs": [],
   "source": [
    "# Commit and close connection\n",
    "conn.commit()\n",
    "cursor.close()\n",
    "conn.close()"
   ]
  },
  {
   "cell_type": "markdown",
   "metadata": {},
   "source": [
    "## Create vector database to store all our items within"
   ]
  },
  {
   "cell_type": "code",
   "execution_count": null,
   "metadata": {},
   "outputs": [],
   "source": []
  }
 ],
 "metadata": {
  "kernelspec": {
   "display_name": "my-learning-3IM81iVc",
   "language": "python",
   "name": "python3"
  },
  "language_info": {
   "codemirror_mode": {
    "name": "ipython",
    "version": 3
   },
   "file_extension": ".py",
   "mimetype": "text/x-python",
   "name": "python",
   "nbconvert_exporter": "python",
   "pygments_lexer": "ipython3",
   "version": "3.12.0"
  }
 },
 "nbformat": 4,
 "nbformat_minor": 2
}
