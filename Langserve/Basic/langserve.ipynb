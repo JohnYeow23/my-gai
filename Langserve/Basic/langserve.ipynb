{
 "cells": [
  {
   "cell_type": "code",
   "execution_count": 1,
   "metadata": {},
   "outputs": [
    {
     "name": "stdout",
     "output_type": "stream",
     "text": [
      "Requirement already satisfied: python-dotenv in /Users/junyeow/.local/share/virtualenvs/my-learning-3IM81iVc/lib/python3.12/site-packages (1.0.1)\n",
      "Requirement already satisfied: openai in /Users/junyeow/.local/share/virtualenvs/my-learning-3IM81iVc/lib/python3.12/site-packages (1.52.2)\n",
      "Requirement already satisfied: langchain in /Users/junyeow/.local/share/virtualenvs/my-learning-3IM81iVc/lib/python3.12/site-packages (0.3.4)\n",
      "Requirement already satisfied: langchain-community in /Users/junyeow/.local/share/virtualenvs/my-learning-3IM81iVc/lib/python3.12/site-packages (0.3.3)\n",
      "Requirement already satisfied: langchain_openai in /Users/junyeow/.local/share/virtualenvs/my-learning-3IM81iVc/lib/python3.12/site-packages (0.2.3)\n",
      "Requirement already satisfied: langserve in /Users/junyeow/.local/share/virtualenvs/my-learning-3IM81iVc/lib/python3.12/site-packages (0.3.0)\n",
      "Requirement already satisfied: langsmith in /Users/junyeow/.local/share/virtualenvs/my-learning-3IM81iVc/lib/python3.12/site-packages (0.1.137)\n",
      "Requirement already satisfied: tiktoken in /Users/junyeow/.local/share/virtualenvs/my-learning-3IM81iVc/lib/python3.12/site-packages (0.8.0)\n",
      "Requirement already satisfied: anyio<5,>=3.5.0 in /Users/junyeow/.local/share/virtualenvs/my-learning-3IM81iVc/lib/python3.12/site-packages (from openai) (4.6.2.post1)\n",
      "Requirement already satisfied: distro<2,>=1.7.0 in /Users/junyeow/.local/share/virtualenvs/my-learning-3IM81iVc/lib/python3.12/site-packages (from openai) (1.9.0)\n",
      "Requirement already satisfied: httpx<1,>=0.23.0 in /Users/junyeow/.local/share/virtualenvs/my-learning-3IM81iVc/lib/python3.12/site-packages (from openai) (0.27.2)\n",
      "Requirement already satisfied: jiter<1,>=0.4.0 in /Users/junyeow/.local/share/virtualenvs/my-learning-3IM81iVc/lib/python3.12/site-packages (from openai) (0.6.1)\n",
      "Requirement already satisfied: pydantic<3,>=1.9.0 in /Users/junyeow/.local/share/virtualenvs/my-learning-3IM81iVc/lib/python3.12/site-packages (from openai) (2.9.2)\n",
      "Requirement already satisfied: sniffio in /Users/junyeow/.local/share/virtualenvs/my-learning-3IM81iVc/lib/python3.12/site-packages (from openai) (1.3.1)\n",
      "Requirement already satisfied: tqdm>4 in /Users/junyeow/.local/share/virtualenvs/my-learning-3IM81iVc/lib/python3.12/site-packages (from openai) (4.66.5)\n",
      "Requirement already satisfied: typing-extensions<5,>=4.11 in /Users/junyeow/.local/share/virtualenvs/my-learning-3IM81iVc/lib/python3.12/site-packages (from openai) (4.12.2)\n",
      "Requirement already satisfied: PyYAML>=5.3 in /Users/junyeow/.local/share/virtualenvs/my-learning-3IM81iVc/lib/python3.12/site-packages (from langchain) (6.0.2)\n",
      "Requirement already satisfied: SQLAlchemy<3,>=1.4 in /Users/junyeow/.local/share/virtualenvs/my-learning-3IM81iVc/lib/python3.12/site-packages (from langchain) (2.0.36)\n",
      "Requirement already satisfied: aiohttp<4.0.0,>=3.8.3 in /Users/junyeow/.local/share/virtualenvs/my-learning-3IM81iVc/lib/python3.12/site-packages (from langchain) (3.10.10)\n",
      "Requirement already satisfied: langchain-core<0.4.0,>=0.3.12 in /Users/junyeow/.local/share/virtualenvs/my-learning-3IM81iVc/lib/python3.12/site-packages (from langchain) (0.3.13)\n",
      "Requirement already satisfied: langchain-text-splitters<0.4.0,>=0.3.0 in /Users/junyeow/.local/share/virtualenvs/my-learning-3IM81iVc/lib/python3.12/site-packages (from langchain) (0.3.0)\n",
      "Requirement already satisfied: numpy<2.0.0,>=1.26.0 in /Users/junyeow/.local/share/virtualenvs/my-learning-3IM81iVc/lib/python3.12/site-packages (from langchain) (1.26.4)\n",
      "Requirement already satisfied: requests<3,>=2 in /Users/junyeow/.local/share/virtualenvs/my-learning-3IM81iVc/lib/python3.12/site-packages (from langchain) (2.32.3)\n",
      "Requirement already satisfied: tenacity!=8.4.0,<10,>=8.1.0 in /Users/junyeow/.local/share/virtualenvs/my-learning-3IM81iVc/lib/python3.12/site-packages (from langchain) (9.0.0)\n",
      "Requirement already satisfied: dataclasses-json<0.7,>=0.5.7 in /Users/junyeow/.local/share/virtualenvs/my-learning-3IM81iVc/lib/python3.12/site-packages (from langchain-community) (0.6.7)\n",
      "Requirement already satisfied: pydantic-settings<3.0.0,>=2.4.0 in /Users/junyeow/.local/share/virtualenvs/my-learning-3IM81iVc/lib/python3.12/site-packages (from langchain-community) (2.6.0)\n",
      "Requirement already satisfied: orjson<4,>=2 in /Users/junyeow/.local/share/virtualenvs/my-learning-3IM81iVc/lib/python3.12/site-packages (from langserve) (3.10.10)\n",
      "Requirement already satisfied: requests-toolbelt<2.0.0,>=1.0.0 in /Users/junyeow/.local/share/virtualenvs/my-learning-3IM81iVc/lib/python3.12/site-packages (from langsmith) (1.0.0)\n",
      "Requirement already satisfied: regex>=2022.1.18 in /Users/junyeow/.local/share/virtualenvs/my-learning-3IM81iVc/lib/python3.12/site-packages (from tiktoken) (2024.9.11)\n",
      "Requirement already satisfied: aiohappyeyeballs>=2.3.0 in /Users/junyeow/.local/share/virtualenvs/my-learning-3IM81iVc/lib/python3.12/site-packages (from aiohttp<4.0.0,>=3.8.3->langchain) (2.4.3)\n",
      "Requirement already satisfied: aiosignal>=1.1.2 in /Users/junyeow/.local/share/virtualenvs/my-learning-3IM81iVc/lib/python3.12/site-packages (from aiohttp<4.0.0,>=3.8.3->langchain) (1.3.1)\n",
      "Requirement already satisfied: attrs>=17.3.0 in /Users/junyeow/.local/share/virtualenvs/my-learning-3IM81iVc/lib/python3.12/site-packages (from aiohttp<4.0.0,>=3.8.3->langchain) (24.2.0)\n",
      "Requirement already satisfied: frozenlist>=1.1.1 in /Users/junyeow/.local/share/virtualenvs/my-learning-3IM81iVc/lib/python3.12/site-packages (from aiohttp<4.0.0,>=3.8.3->langchain) (1.5.0)\n",
      "Requirement already satisfied: multidict<7.0,>=4.5 in /Users/junyeow/.local/share/virtualenvs/my-learning-3IM81iVc/lib/python3.12/site-packages (from aiohttp<4.0.0,>=3.8.3->langchain) (6.1.0)\n",
      "Requirement already satisfied: yarl<2.0,>=1.12.0 in /Users/junyeow/.local/share/virtualenvs/my-learning-3IM81iVc/lib/python3.12/site-packages (from aiohttp<4.0.0,>=3.8.3->langchain) (1.16.0)\n",
      "Requirement already satisfied: idna>=2.8 in /Users/junyeow/.local/share/virtualenvs/my-learning-3IM81iVc/lib/python3.12/site-packages (from anyio<5,>=3.5.0->openai) (3.10)\n",
      "Requirement already satisfied: marshmallow<4.0.0,>=3.18.0 in /Users/junyeow/.local/share/virtualenvs/my-learning-3IM81iVc/lib/python3.12/site-packages (from dataclasses-json<0.7,>=0.5.7->langchain-community) (3.23.0)\n",
      "Requirement already satisfied: typing-inspect<1,>=0.4.0 in /Users/junyeow/.local/share/virtualenvs/my-learning-3IM81iVc/lib/python3.12/site-packages (from dataclasses-json<0.7,>=0.5.7->langchain-community) (0.9.0)\n",
      "Requirement already satisfied: certifi in /Users/junyeow/.local/share/virtualenvs/my-learning-3IM81iVc/lib/python3.12/site-packages (from httpx<1,>=0.23.0->openai) (2024.8.30)\n",
      "Requirement already satisfied: httpcore==1.* in /Users/junyeow/.local/share/virtualenvs/my-learning-3IM81iVc/lib/python3.12/site-packages (from httpx<1,>=0.23.0->openai) (1.0.6)\n",
      "Requirement already satisfied: h11<0.15,>=0.13 in /Users/junyeow/.local/share/virtualenvs/my-learning-3IM81iVc/lib/python3.12/site-packages (from httpcore==1.*->httpx<1,>=0.23.0->openai) (0.14.0)\n",
      "Requirement already satisfied: jsonpatch<2.0,>=1.33 in /Users/junyeow/.local/share/virtualenvs/my-learning-3IM81iVc/lib/python3.12/site-packages (from langchain-core<0.4.0,>=0.3.12->langchain) (1.33)\n",
      "Requirement already satisfied: packaging<25,>=23.2 in /Users/junyeow/.local/share/virtualenvs/my-learning-3IM81iVc/lib/python3.12/site-packages (from langchain-core<0.4.0,>=0.3.12->langchain) (24.1)\n",
      "Requirement already satisfied: annotated-types>=0.6.0 in /Users/junyeow/.local/share/virtualenvs/my-learning-3IM81iVc/lib/python3.12/site-packages (from pydantic<3,>=1.9.0->openai) (0.7.0)\n",
      "Requirement already satisfied: pydantic-core==2.23.4 in /Users/junyeow/.local/share/virtualenvs/my-learning-3IM81iVc/lib/python3.12/site-packages (from pydantic<3,>=1.9.0->openai) (2.23.4)\n",
      "Requirement already satisfied: charset-normalizer<4,>=2 in /Users/junyeow/.local/share/virtualenvs/my-learning-3IM81iVc/lib/python3.12/site-packages (from requests<3,>=2->langchain) (3.4.0)\n",
      "Requirement already satisfied: urllib3<3,>=1.21.1 in /Users/junyeow/.local/share/virtualenvs/my-learning-3IM81iVc/lib/python3.12/site-packages (from requests<3,>=2->langchain) (2.2.3)\n",
      "Requirement already satisfied: jsonpointer>=1.9 in /Users/junyeow/.local/share/virtualenvs/my-learning-3IM81iVc/lib/python3.12/site-packages (from jsonpatch<2.0,>=1.33->langchain-core<0.4.0,>=0.3.12->langchain) (3.0.0)\n",
      "Requirement already satisfied: mypy-extensions>=0.3.0 in /Users/junyeow/.local/share/virtualenvs/my-learning-3IM81iVc/lib/python3.12/site-packages (from typing-inspect<1,>=0.4.0->dataclasses-json<0.7,>=0.5.7->langchain-community) (1.0.0)\n",
      "Requirement already satisfied: propcache>=0.2.0 in /Users/junyeow/.local/share/virtualenvs/my-learning-3IM81iVc/lib/python3.12/site-packages (from yarl<2.0,>=1.12.0->aiohttp<4.0.0,>=3.8.3->langchain) (0.2.0)\n",
      "Note: you may need to restart the kernel to use updated packages.\n"
     ]
    }
   ],
   "source": [
    "%pip install python-dotenv openai langchain langchain-community langchain_openai langserve langsmith tiktoken"
   ]
  },
  {
   "cell_type": "code",
   "execution_count": 2,
   "metadata": {},
   "outputs": [],
   "source": [
    "import os\n",
    "from dotenv import load_dotenv\n",
    "from langchain_openai import ChatOpenAI"
   ]
  },
  {
   "cell_type": "code",
   "execution_count": 3,
   "metadata": {},
   "outputs": [
    {
     "data": {
      "text/plain": [
       "True"
      ]
     },
     "execution_count": 3,
     "metadata": {},
     "output_type": "execute_result"
    }
   ],
   "source": [
    "load_dotenv()"
   ]
  },
  {
   "cell_type": "code",
   "execution_count": 4,
   "metadata": {},
   "outputs": [],
   "source": [
    "# If shit ain't tracking try to restart the entire kernel!\n",
    "trace = os.getenv(\"LANGCHAIN_TRACING_V2\")\n",
    "langsmith = os.getenv(\"LANGCHAIN_API_KEY\")"
   ]
  },
  {
   "cell_type": "code",
   "execution_count": 5,
   "metadata": {},
   "outputs": [],
   "source": [
    "# Create a model using GPT-4\n",
    "openai = os.getenv(\"OPENAI_API_KEY\")\n",
    "gpt = ChatOpenAI(\n",
    "    model='gpt-4o',\n",
    "    temperature=0.7\n",
    ")"
   ]
  },
  {
   "cell_type": "code",
   "execution_count": 6,
   "metadata": {},
   "outputs": [
    {
     "data": {
      "text/plain": [
       "AIMessage(content='Guessing your favorite Pokémon can be quite tricky since there are over 800 to choose from! However, many people tend to like popular ones such as Pikachu, Charizard, Eevee, or Mewtwo. If you have a particular generation or type you favor, that might help narrow it down. Let me know if you have any hints!', additional_kwargs={'refusal': None}, response_metadata={'token_usage': {'completion_tokens': 71, 'prompt_tokens': 11, 'total_tokens': 82, 'completion_tokens_details': {'audio_tokens': None, 'reasoning_tokens': 0}, 'prompt_tokens_details': {'audio_tokens': None, 'cached_tokens': 0}}, 'model_name': 'gpt-4o-2024-08-06', 'system_fingerprint': 'fp_90354628f2', 'finish_reason': 'stop', 'logprobs': None}, id='run-205e8682-f1fa-4562-b9a4-a7390570a1b4-0', usage_metadata={'input_tokens': 11, 'output_tokens': 71, 'total_tokens': 82, 'input_token_details': {'cache_read': 0}, 'output_token_details': {'reasoning': 0}})"
      ]
     },
     "execution_count": 6,
     "metadata": {},
     "output_type": "execute_result"
    }
   ],
   "source": [
    "# Testing connection\n",
    "gpt.invoke(\"Guess my favourite pokemon\")\n",
    "# Check langsmith everything works!"
   ]
  },
  {
   "cell_type": "markdown",
   "metadata": {},
   "source": [
    "# Langserve"
   ]
  },
  {
   "cell_type": "code",
   "execution_count": 14,
   "metadata": {},
   "outputs": [
    {
     "name": "stdout",
     "output_type": "stream",
     "text": [
      "Requirement already satisfied: fastapi in /Users/junyeow/.local/share/virtualenvs/my-learning-3IM81iVc/lib/python3.12/site-packages (0.115.4)\n",
      "Requirement already satisfied: uvicorn in /Users/junyeow/.local/share/virtualenvs/my-learning-3IM81iVc/lib/python3.12/site-packages (0.32.0)\n",
      "Collecting sse_starlette\n",
      "  Downloading sse_starlette-2.1.3-py3-none-any.whl.metadata (5.8 kB)\n",
      "Requirement already satisfied: starlette<0.42.0,>=0.40.0 in /Users/junyeow/.local/share/virtualenvs/my-learning-3IM81iVc/lib/python3.12/site-packages (from fastapi) (0.41.2)\n",
      "Requirement already satisfied: pydantic!=1.8,!=1.8.1,!=2.0.0,!=2.0.1,!=2.1.0,<3.0.0,>=1.7.4 in /Users/junyeow/.local/share/virtualenvs/my-learning-3IM81iVc/lib/python3.12/site-packages (from fastapi) (2.9.2)\n",
      "Requirement already satisfied: typing-extensions>=4.8.0 in /Users/junyeow/.local/share/virtualenvs/my-learning-3IM81iVc/lib/python3.12/site-packages (from fastapi) (4.12.2)\n",
      "Requirement already satisfied: click>=7.0 in /Users/junyeow/.local/share/virtualenvs/my-learning-3IM81iVc/lib/python3.12/site-packages (from uvicorn) (8.1.7)\n",
      "Requirement already satisfied: h11>=0.8 in /Users/junyeow/.local/share/virtualenvs/my-learning-3IM81iVc/lib/python3.12/site-packages (from uvicorn) (0.14.0)\n",
      "Requirement already satisfied: anyio in /Users/junyeow/.local/share/virtualenvs/my-learning-3IM81iVc/lib/python3.12/site-packages (from sse_starlette) (4.6.2.post1)\n",
      "Requirement already satisfied: annotated-types>=0.6.0 in /Users/junyeow/.local/share/virtualenvs/my-learning-3IM81iVc/lib/python3.12/site-packages (from pydantic!=1.8,!=1.8.1,!=2.0.0,!=2.0.1,!=2.1.0,<3.0.0,>=1.7.4->fastapi) (0.7.0)\n",
      "Requirement already satisfied: pydantic-core==2.23.4 in /Users/junyeow/.local/share/virtualenvs/my-learning-3IM81iVc/lib/python3.12/site-packages (from pydantic!=1.8,!=1.8.1,!=2.0.0,!=2.0.1,!=2.1.0,<3.0.0,>=1.7.4->fastapi) (2.23.4)\n",
      "Requirement already satisfied: idna>=2.8 in /Users/junyeow/.local/share/virtualenvs/my-learning-3IM81iVc/lib/python3.12/site-packages (from anyio->sse_starlette) (3.10)\n",
      "Requirement already satisfied: sniffio>=1.1 in /Users/junyeow/.local/share/virtualenvs/my-learning-3IM81iVc/lib/python3.12/site-packages (from anyio->sse_starlette) (1.3.1)\n",
      "Downloading sse_starlette-2.1.3-py3-none-any.whl (9.4 kB)\n",
      "Installing collected packages: sse_starlette\n",
      "Successfully installed sse_starlette-2.1.3\n",
      "Note: you may need to restart the kernel to use updated packages.\n"
     ]
    }
   ],
   "source": [
    "%pip install fastapi uvicorn sse_starlette"
   ]
  },
  {
   "cell_type": "code",
   "execution_count": 15,
   "metadata": {},
   "outputs": [],
   "source": [
    "from fastapi import FastAPI\n",
    "from langchain.prompts import ChatPromptTemplate\n",
    "from langchain_openai import ChatOpenAI\n",
    "from langserve import add_routes\n",
    "import uvicorn\n",
    "import sse_starlette"
   ]
  },
  {
   "cell_type": "code",
   "execution_count": 16,
   "metadata": {},
   "outputs": [],
   "source": [
    "app = FastAPI(\n",
    "    title= \"langserve_server\",\n",
    "    version = '1.0',\n",
    "    description  = 'A simple API server'\n",
    ")"
   ]
  },
  {
   "cell_type": "code",
   "execution_count": 19,
   "metadata": {},
   "outputs": [],
   "source": [
    "prompt_essay = ChatPromptTemplate.from_template(\n",
    "    \"Provide me an essay about {topic}.\"\n",
    ")\n",
    "prompt_poem = ChatPromptTemplate.from_template(\n",
    "    \"Provide me an poem about {topic}.\"\n",
    ")"
   ]
  },
  {
   "cell_type": "code",
   "execution_count": 20,
   "metadata": {},
   "outputs": [],
   "source": [
    "add_routes(\n",
    "    app,\n",
    "    prompt_essay | gpt,\n",
    "    path=\"/essay\"\n",
    ")\n",
    "\n",
    "add_routes(\n",
    "    app,\n",
    "    prompt_poem | gpt,\n",
    "    path=\"/poem\"\n",
    ")"
   ]
  },
  {
   "cell_type": "code",
   "execution_count": null,
   "metadata": {},
   "outputs": [],
   "source": [
    "import nest_asyncio\n",
    "\n",
    "nest_asyncio.apply()\n",
    "\n",
    "uvicorn.run(app, host=\"localhost\", port=8000)"
   ]
  }
 ],
 "metadata": {
  "kernelspec": {
   "display_name": "my-learning-3IM81iVc",
   "language": "python",
   "name": "python3"
  },
  "language_info": {
   "codemirror_mode": {
    "name": "ipython",
    "version": 3
   },
   "file_extension": ".py",
   "mimetype": "text/x-python",
   "name": "python",
   "nbconvert_exporter": "python",
   "pygments_lexer": "ipython3",
   "version": "3.12.0"
  }
 },
 "nbformat": 4,
 "nbformat_minor": 2
}
