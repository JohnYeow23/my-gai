{
 "cells": [
  {
   "cell_type": "code",
   "execution_count": 1,
   "metadata": {},
   "outputs": [],
   "source": [
    "# %pip install python-dotenv openai langchain langchain-community langchain_openai langserve langsmith tiktoken"
   ]
  },
  {
   "cell_type": "code",
   "execution_count": 2,
   "metadata": {},
   "outputs": [],
   "source": [
    "import os\n",
    "from dotenv import load_dotenv\n",
    "from langchain_openai import ChatOpenAI"
   ]
  },
  {
   "cell_type": "code",
   "execution_count": 3,
   "metadata": {},
   "outputs": [
    {
     "data": {
      "text/plain": [
       "True"
      ]
     },
     "execution_count": 3,
     "metadata": {},
     "output_type": "execute_result"
    }
   ],
   "source": [
    "load_dotenv()"
   ]
  },
  {
   "cell_type": "code",
   "execution_count": 4,
   "metadata": {},
   "outputs": [],
   "source": [
    "# If shit ain't tracking try to restart the entire kernel!\n",
    "trace = os.getenv(\"LANGCHAIN_TRACING_V2\")\n",
    "langsmith = os.getenv(\"LANGCHAIN_API_KEY\")"
   ]
  },
  {
   "cell_type": "code",
   "execution_count": 5,
   "metadata": {},
   "outputs": [],
   "source": [
    "# Create a model using GPT-4\n",
    "openai = os.getenv(\"OPENAI_API_KEY\")\n",
    "gpt = ChatOpenAI(\n",
    "    model='gpt-4o',\n",
    "    temperature=0.7\n",
    ")"
   ]
  },
  {
   "cell_type": "code",
   "execution_count": 6,
   "metadata": {},
   "outputs": [
    {
     "data": {
      "text/plain": [
       "AIMessage(content=\"Guessing your favorite Pokémon is a bit of a challenge without any hints! There are over 800 to choose from, but I'll take a shot in the dark and say Pikachu, since it's one of the most iconic and beloved Pokémon. If that's not it, feel free to give me a hint or two!\", additional_kwargs={'refusal': None}, response_metadata={'token_usage': {'completion_tokens': 63, 'prompt_tokens': 11, 'total_tokens': 74, 'completion_tokens_details': {'audio_tokens': None, 'reasoning_tokens': 0}, 'prompt_tokens_details': {'audio_tokens': None, 'cached_tokens': 0}}, 'model_name': 'gpt-4o-2024-08-06', 'system_fingerprint': 'fp_90354628f2', 'finish_reason': 'stop', 'logprobs': None}, id='run-711b1cff-65a5-4480-90e6-1c49ba3008d4-0', usage_metadata={'input_tokens': 11, 'output_tokens': 63, 'total_tokens': 74, 'input_token_details': {'cache_read': 0}, 'output_token_details': {'reasoning': 0}})"
      ]
     },
     "execution_count": 6,
     "metadata": {},
     "output_type": "execute_result"
    }
   ],
   "source": [
    "# Testing connection\n",
    "gpt.invoke(\"Guess my favourite pokemon\")\n",
    "# Check langsmith everything works!"
   ]
  },
  {
   "cell_type": "markdown",
   "metadata": {},
   "source": [
    "# Langserve"
   ]
  },
  {
   "cell_type": "code",
   "execution_count": 7,
   "metadata": {},
   "outputs": [
    {
     "name": "stdout",
     "output_type": "stream",
     "text": [
      "Requirement already satisfied: fastapi in /Users/junyeow/.local/share/virtualenvs/my-learning-3IM81iVc/lib/python3.12/site-packages (0.115.4)\n",
      "Requirement already satisfied: uvicorn in /Users/junyeow/.local/share/virtualenvs/my-learning-3IM81iVc/lib/python3.12/site-packages (0.32.0)\n",
      "Requirement already satisfied: sse_starlette in /Users/junyeow/.local/share/virtualenvs/my-learning-3IM81iVc/lib/python3.12/site-packages (2.1.3)\n",
      "Requirement already satisfied: starlette<0.42.0,>=0.40.0 in /Users/junyeow/.local/share/virtualenvs/my-learning-3IM81iVc/lib/python3.12/site-packages (from fastapi) (0.41.2)\n",
      "Requirement already satisfied: pydantic!=1.8,!=1.8.1,!=2.0.0,!=2.0.1,!=2.1.0,<3.0.0,>=1.7.4 in /Users/junyeow/.local/share/virtualenvs/my-learning-3IM81iVc/lib/python3.12/site-packages (from fastapi) (2.9.2)\n",
      "Requirement already satisfied: typing-extensions>=4.8.0 in /Users/junyeow/.local/share/virtualenvs/my-learning-3IM81iVc/lib/python3.12/site-packages (from fastapi) (4.12.2)\n",
      "Requirement already satisfied: click>=7.0 in /Users/junyeow/.local/share/virtualenvs/my-learning-3IM81iVc/lib/python3.12/site-packages (from uvicorn) (8.1.7)\n",
      "Requirement already satisfied: h11>=0.8 in /Users/junyeow/.local/share/virtualenvs/my-learning-3IM81iVc/lib/python3.12/site-packages (from uvicorn) (0.14.0)\n",
      "Requirement already satisfied: anyio in /Users/junyeow/.local/share/virtualenvs/my-learning-3IM81iVc/lib/python3.12/site-packages (from sse_starlette) (4.6.2.post1)\n",
      "Requirement already satisfied: annotated-types>=0.6.0 in /Users/junyeow/.local/share/virtualenvs/my-learning-3IM81iVc/lib/python3.12/site-packages (from pydantic!=1.8,!=1.8.1,!=2.0.0,!=2.0.1,!=2.1.0,<3.0.0,>=1.7.4->fastapi) (0.7.0)\n",
      "Requirement already satisfied: pydantic-core==2.23.4 in /Users/junyeow/.local/share/virtualenvs/my-learning-3IM81iVc/lib/python3.12/site-packages (from pydantic!=1.8,!=1.8.1,!=2.0.0,!=2.0.1,!=2.1.0,<3.0.0,>=1.7.4->fastapi) (2.23.4)\n",
      "Requirement already satisfied: idna>=2.8 in /Users/junyeow/.local/share/virtualenvs/my-learning-3IM81iVc/lib/python3.12/site-packages (from anyio->sse_starlette) (3.10)\n",
      "Requirement already satisfied: sniffio>=1.1 in /Users/junyeow/.local/share/virtualenvs/my-learning-3IM81iVc/lib/python3.12/site-packages (from anyio->sse_starlette) (1.3.1)\n",
      "Note: you may need to restart the kernel to use updated packages.\n"
     ]
    }
   ],
   "source": [
    "%pip install fastapi uvicorn sse_starlette"
   ]
  },
  {
   "cell_type": "code",
   "execution_count": 8,
   "metadata": {},
   "outputs": [],
   "source": [
    "from fastapi import FastAPI\n",
    "from langchain.prompts import ChatPromptTemplate\n",
    "from langchain_openai import ChatOpenAI\n",
    "from langserve import add_routes\n",
    "import uvicorn\n",
    "import sse_starlette"
   ]
  },
  {
   "cell_type": "code",
   "execution_count": 9,
   "metadata": {},
   "outputs": [],
   "source": [
    "app = FastAPI(\n",
    "    title= \"langserve_server\",\n",
    "    version = '1.0',\n",
    "    description  = 'A simple API server'\n",
    ")"
   ]
  },
  {
   "cell_type": "code",
   "execution_count": 10,
   "metadata": {},
   "outputs": [],
   "source": [
    "prompt_essay = ChatPromptTemplate.from_template(\n",
    "    \"Provide me an essay about {topic}.\"\n",
    ")\n",
    "prompt_poem = ChatPromptTemplate.from_template(\n",
    "    \"Provide me an poem about {topic}.\"\n",
    ")"
   ]
  },
  {
   "cell_type": "code",
   "execution_count": 11,
   "metadata": {},
   "outputs": [],
   "source": [
    "add_routes(\n",
    "    app,\n",
    "    prompt_essay | gpt,\n",
    "    path=\"/essay\"\n",
    ")\n",
    "\n",
    "add_routes(\n",
    "    app,\n",
    "    prompt_poem | gpt,\n",
    "    path=\"/poem\"\n",
    ")"
   ]
  },
  {
   "cell_type": "code",
   "execution_count": 12,
   "metadata": {},
   "outputs": [
    {
     "name": "stderr",
     "output_type": "stream",
     "text": [
      "INFO:     Started server process [41390]\n",
      "INFO:     Waiting for application startup.\n",
      "INFO:     Application startup complete.\n",
      "INFO:     Uvicorn running on http://localhost:8000 (Press CTRL+C to quit)\n"
     ]
    },
    {
     "name": "stdout",
     "output_type": "stream",
     "text": [
      "\n",
      "     __          ___      .__   __.   _______      _______. _______ .______     ____    ____  _______\n",
      "    |  |        /   \\     |  \\ |  |  /  _____|    /       ||   ____||   _  \\    \\   \\  /   / |   ____|\n",
      "    |  |       /  ^  \\    |   \\|  | |  |  __     |   (----`|  |__   |  |_)  |    \\   \\/   /  |  |__\n",
      "    |  |      /  /_\\  \\   |  . `  | |  | |_ |     \\   \\    |   __|  |      /      \\      /   |   __|\n",
      "    |  `----./  _____  \\  |  |\\   | |  |__| | .----)   |   |  |____ |  |\\  \\----.  \\    /    |  |____\n",
      "    |_______/__/     \\__\\ |__| \\__|  \\______| |_______/    |_______|| _| `._____|   \\__/     |_______|\n",
      "    \n",
      "\u001b[1;32;40mLANGSERVE:\u001b[0m Playground for chain \"/poem/\" is live at:\n",
      "\u001b[1;32;40mLANGSERVE:\u001b[0m  │\n",
      "\u001b[1;32;40mLANGSERVE:\u001b[0m  └──> /poem/playground/\n",
      "\u001b[1;32;40mLANGSERVE:\u001b[0m\n",
      "\u001b[1;32;40mLANGSERVE:\u001b[0m Playground for chain \"/essay/\" is live at:\n",
      "\u001b[1;32;40mLANGSERVE:\u001b[0m  │\n",
      "\u001b[1;32;40mLANGSERVE:\u001b[0m  └──> /essay/playground/\n",
      "\u001b[1;32;40mLANGSERVE:\u001b[0m\n",
      "\u001b[1;32;40mLANGSERVE:\u001b[0m See all available routes at /docs/\n"
     ]
    },
    {
     "name": "stderr",
     "output_type": "stream",
     "text": [
      "INFO:     Shutting down\n",
      "INFO:     Waiting for application shutdown.\n",
      "INFO:     Application shutdown complete.\n",
      "INFO:     Finished server process [41390]\n"
     ]
    }
   ],
   "source": [
    "import nest_asyncio\n",
    "\n",
    "nest_asyncio.apply()\n",
    "\n",
    "uvicorn.run(app, host=\"localhost\", port=8000)"
   ]
  }
 ],
 "metadata": {
  "kernelspec": {
   "display_name": "my-learning-3IM81iVc",
   "language": "python",
   "name": "python3"
  },
  "language_info": {
   "codemirror_mode": {
    "name": "ipython",
    "version": 3
   },
   "file_extension": ".py",
   "mimetype": "text/x-python",
   "name": "python",
   "nbconvert_exporter": "python",
   "pygments_lexer": "ipython3",
   "version": "3.12.0"
  }
 },
 "nbformat": 4,
 "nbformat_minor": 2
}
